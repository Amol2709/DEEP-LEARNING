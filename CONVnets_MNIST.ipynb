{
 "cells": [
  {
   "cell_type": "code",
   "execution_count": 1,
   "metadata": {
    "colab": {
     "base_uri": "https://localhost:8080/",
     "height": 34
    },
    "colab_type": "code",
    "id": "z3UVoZB03lcN",
    "outputId": "15a5d998-685f-4f25-eae2-6f76a3ada93b"
   },
   "outputs": [
    {
     "name": "stderr",
     "output_type": "stream",
     "text": [
      "Using TensorFlow backend.\n"
     ]
    }
   ],
   "source": [
    "import keras\n",
    "from keras.datasets import mnist\n",
    "from keras.utils import np_utils\n"
   ]
  },
  {
   "cell_type": "code",
   "execution_count": 2,
   "metadata": {
    "colab": {
     "base_uri": "https://localhost:8080/",
     "height": 51
    },
    "colab_type": "code",
    "id": "dr0CiQVk38L8",
    "outputId": "8b503af2-2fe0-46da-b4f1-36c163e3ed87"
   },
   "outputs": [
    {
     "name": "stdout",
     "output_type": "stream",
     "text": [
      "Downloading data from https://s3.amazonaws.com/img-datasets/mnist.npz\n",
      "11493376/11490434 [==============================] - 1s 0us/step\n"
     ]
    }
   ],
   "source": [
    "(X_TRAIN,Y_TRAIN),(X_TEST,Y_TEST)= mnist.load_data()"
   ]
  },
  {
   "cell_type": "code",
   "execution_count": 3,
   "metadata": {
    "colab": {
     "base_uri": "https://localhost:8080/",
     "height": 34
    },
    "colab_type": "code",
    "id": "dBGfczWj38mb",
    "outputId": "18403cd3-9494-4e78-b4a2-305deb04a3b7"
   },
   "outputs": [
    {
     "data": {
      "text/plain": [
       "(((60000, 28, 28), (60000,)), ((10000, 28, 28), (10000,)))"
      ]
     },
     "execution_count": 3,
     "metadata": {
      "tags": []
     },
     "output_type": "execute_result"
    }
   ],
   "source": [
    "(X_TRAIN.shape,Y_TRAIN.shape),(X_TEST.shape,Y_TEST.shape)"
   ]
  },
  {
   "cell_type": "code",
   "execution_count": 0,
   "metadata": {
    "colab": {},
    "colab_type": "code",
    "id": "FZFVP6yj4Vql"
   },
   "outputs": [],
   "source": [
    "from keras import backend as K"
   ]
  },
  {
   "cell_type": "code",
   "execution_count": 5,
   "metadata": {
    "colab": {
     "base_uri": "https://localhost:8080/",
     "height": 34
    },
    "colab_type": "code",
    "id": "0K6HAMbA40eT",
    "outputId": "1577cb39-20ec-4007-9446-3cfa8f4e8e27"
   },
   "outputs": [
    {
     "data": {
      "text/plain": [
       "'channels_last'"
      ]
     },
     "execution_count": 5,
     "metadata": {
      "tags": []
     },
     "output_type": "execute_result"
    }
   ],
   "source": [
    "K.image_data_format()"
   ]
  },
  {
   "cell_type": "code",
   "execution_count": 6,
   "metadata": {
    "colab": {
     "base_uri": "https://localhost:8080/",
     "height": 34
    },
    "colab_type": "code",
    "id": "2lpK68Sb48F2",
    "outputId": "4235a4c8-02f8-43ab-a82f-4613e3118c55"
   },
   "outputs": [
    {
     "name": "stdout",
     "output_type": "stream",
     "text": [
      "(60000, 28, 28, 1) (10000, 28, 28, 1)\n"
     ]
    }
   ],
   "source": [
    "X_TRAIN = X_TRAIN.reshape(X_TRAIN.shape[0],28,28,1)\n",
    "X_TEST = X_TEST.reshape(X_TEST.shape[0],28,28,1)\n",
    "print(X_TRAIN.shape,X_TEST.shape)\n",
    "X_TRAIN =X_TRAIN.astype('float32')\n",
    "X_TEST = X_TEST.astype('float32')\n",
    "X_TRAIN = X_TRAIN/255\n",
    "X_TEST= X_TEST/255\n",
    "\n",
    "Y_TRAIN = np_utils.to_categorical(Y_TRAIN,10)\n",
    "Y_TEST = np_utils.to_categorical(Y_TEST,10)\n"
   ]
  },
  {
   "cell_type": "markdown",
   "metadata": {
    "colab_type": "text",
    "id": "IKzdmD5gJENC"
   },
   "source": [
    "# MODEL:1\n",
    "\n",
    "Filter_1:32\n",
    "\n",
    "FIlter_2 :64\n",
    "\n",
    "Kerenel_size=3X3\n",
    "\n",
    "Activation Function: Relu\n",
    "\n",
    "Optimizers: Adam\n",
    "\n",
    "Two conv layers followed by dense layer of 10 neuron having softmax activation function. "
   ]
  },
  {
   "cell_type": "code",
   "execution_count": 0,
   "metadata": {
    "colab": {},
    "colab_type": "code",
    "id": "5NIwEo0QI7Ui"
   },
   "outputs": [],
   "source": []
  },
  {
   "cell_type": "code",
   "execution_count": 0,
   "metadata": {
    "colab": {},
    "colab_type": "code",
    "id": "gnKfZcUlA9GG"
   },
   "outputs": [],
   "source": [
    "#MODEL.add(MaxPooling2D(pool_size=(2,2)))\n",
    "#MODEL.add(Dropout(2.5))\n",
    "#MODEL.add(Flatten())"
   ]
  },
  {
   "cell_type": "code",
   "execution_count": 0,
   "metadata": {
    "colab": {},
    "colab_type": "code",
    "id": "u3DyFGynJkGW"
   },
   "outputs": [],
   "source": [
    "from keras.models import Sequential\n",
    "from keras.layers import Conv2D,MaxPooling2D\n",
    "from keras.layers import Dense,Dropout,Flatten\n",
    "from keras.layers.normalization import BatchNormalization"
   ]
  },
  {
   "cell_type": "code",
   "execution_count": 0,
   "metadata": {
    "colab": {},
    "colab_type": "code",
    "id": "hTm60PJzKfRd"
   },
   "outputs": [],
   "source": [
    "def PLOT(val_loss,train_loss):\n",
    "  import matplotlib.pyplot as plt\n",
    "  X= list(range(1,13))\n",
    "  plt.plot(X,val_loss,'b',label=\"Validation loss\")\n",
    "  plt.plot(X,train_loss,'r',label='Train loss')\n",
    "  plt.legend()\n",
    "  plt.grid()\n",
    "  plt.xlabel(\"Number of Epoch\")\n",
    "  plt.ylabel('Cross Entropy Loss')\n"
   ]
  },
  {
   "cell_type": "code",
   "execution_count": 0,
   "metadata": {
    "colab": {},
    "colab_type": "code",
    "id": "wZERranzJ1HJ"
   },
   "outputs": [],
   "source": [
    "MODEL = Sequential()\n",
    "MODEL.add(Conv2D(32,kernel_size=(3,3),activation='relu',input_shape=(28,28,1)))\n",
    "MODEL.add(Conv2D(64,kernel_size=(3,3),activation='relu'))\n",
    "MODEL.add(Flatten())\n",
    "MODEL.add(Dense(10,activation = 'softmax'))"
   ]
  },
  {
   "cell_type": "code",
   "execution_count": 0,
   "metadata": {
    "colab": {},
    "colab_type": "code",
    "id": "0QBediAMLN34"
   },
   "outputs": [],
   "source": [
    "MODEL.compile(loss='categorical_crossentropy',optimizer=keras.optimizers.Adam(),metrics=['accuracy'])"
   ]
  },
  {
   "cell_type": "code",
   "execution_count": 0,
   "metadata": {
    "colab": {
     "base_uri": "https://localhost:8080/",
     "height": 471
    },
    "colab_type": "code",
    "id": "-3ApEdbeMX1Y",
    "outputId": "30e29f71-c9fb-4fd0-d588-8a2dad77ea74"
   },
   "outputs": [
    {
     "name": "stdout",
     "output_type": "stream",
     "text": [
      "Train on 60000 samples, validate on 10000 samples\n",
      "Epoch 1/12\n",
      "60000/60000 [==============================] - 131s 2ms/step - loss: 0.1734 - acc: 0.9498 - val_loss: 0.0587 - val_acc: 0.9819\n",
      "Epoch 2/12\n",
      "60000/60000 [==============================] - 131s 2ms/step - loss: 0.0541 - acc: 0.9835 - val_loss: 0.0476 - val_acc: 0.9857\n",
      "Epoch 3/12\n",
      "60000/60000 [==============================] - 131s 2ms/step - loss: 0.0364 - acc: 0.9887 - val_loss: 0.0441 - val_acc: 0.9869\n",
      "Epoch 4/12\n",
      "60000/60000 [==============================] - 132s 2ms/step - loss: 0.0272 - acc: 0.9914 - val_loss: 0.0351 - val_acc: 0.9890\n",
      "Epoch 5/12\n",
      "60000/60000 [==============================] - 131s 2ms/step - loss: 0.0199 - acc: 0.9935 - val_loss: 0.0436 - val_acc: 0.9863\n",
      "Epoch 6/12\n",
      "60000/60000 [==============================] - 132s 2ms/step - loss: 0.0138 - acc: 0.9956 - val_loss: 0.0468 - val_acc: 0.9858\n",
      "Epoch 7/12\n",
      "60000/60000 [==============================] - 132s 2ms/step - loss: 0.0105 - acc: 0.9966 - val_loss: 0.0455 - val_acc: 0.9871\n",
      "Epoch 8/12\n",
      "60000/60000 [==============================] - 132s 2ms/step - loss: 0.0091 - acc: 0.9971 - val_loss: 0.0538 - val_acc: 0.9861\n",
      "Epoch 9/12\n",
      "60000/60000 [==============================] - 131s 2ms/step - loss: 0.0072 - acc: 0.9977 - val_loss: 0.0521 - val_acc: 0.9859\n",
      "Epoch 10/12\n",
      "60000/60000 [==============================] - 132s 2ms/step - loss: 0.0067 - acc: 0.9978 - val_loss: 0.0632 - val_acc: 0.9849\n",
      "Epoch 11/12\n",
      "60000/60000 [==============================] - 131s 2ms/step - loss: 0.0059 - acc: 0.9979 - val_loss: 0.0676 - val_acc: 0.9848\n",
      "Epoch 12/12\n",
      "60000/60000 [==============================] - 131s 2ms/step - loss: 0.0045 - acc: 0.9987 - val_loss: 0.0654 - val_acc: 0.9856\n"
     ]
    }
   ],
   "source": [
    "HISTORY=MODEL.fit(X_TRAIN,Y_TRAIN,batch_size= 128,epochs=12,verbose=1,validation_data=(X_TEST,Y_TEST))"
   ]
  },
  {
   "cell_type": "code",
   "execution_count": 0,
   "metadata": {
    "colab": {
     "base_uri": "https://localhost:8080/",
     "height": 317
    },
    "colab_type": "code",
    "id": "Ntoe5b8pPhvT",
    "outputId": "04d40ea8-eff7-422d-fe47-c9930f7730d4"
   },
   "outputs": [
    {
     "name": "stdout",
     "output_type": "stream",
     "text": [
      "Test loss: 0.06543933505496034\n",
      "Test accuracy: 0.9856\n"
     ]
    },
    {
     "data": {
      "image/png": "[encoded data removed]",
      "text/plain": [
       "<Figure size 432x288 with 1 Axes>"
      ]
     },
     "metadata": {
      "tags": []
     },
     "output_type": "display_data"
    }
   ],
   "source": [
    "TEST_LOSS=[]\n",
    "score = MODEL.evaluate(X_TEST, Y_TEST, verbose=0)\n",
    "TEST_LOSS.append(score[0])\n",
    "print('Test loss:', score[0])\n",
    "print('Test accuracy:', score[1])\n",
    "\n",
    "import matplotlib.pyplot as plt\n",
    "TRAIN_LOSS = HISTORY.history['loss']\n",
    "VAL_LOSS = HISTORY.history['val_loss']\n",
    "PLOT(VAL_LOSS,TRAIN_LOSS)"
   ]
  },
  {
   "cell_type": "markdown",
   "metadata": {
    "colab_type": "text",
    "id": "lZng9jFTLG15"
   },
   "source": [
    "# MODEL_2 : \n",
    "\n",
    "* What will happen if we just add one more conv layers?\n",
    "\n",
    "\n",
    "Filter_1:32\n",
    "\n",
    "FIlter_2 :64\n",
    "\n",
    "Filter_3 : 128\n",
    "\n",
    "Kerenel_size=3X3\n",
    "\n",
    "Activation Function: Relu\n",
    "\n",
    "Optimizers: Adam\n",
    "\n",
    "Three conv layers followed by dense layer of 10 neuron having softmax activation function. "
   ]
  },
  {
   "cell_type": "code",
   "execution_count": 0,
   "metadata": {
    "colab": {},
    "colab_type": "code",
    "id": "xIPe-Ne-Io1u"
   },
   "outputs": [],
   "source": [
    "MODEL_2 = Sequential()\n",
    "MODEL_2.add(Conv2D(32,kernel_size=(3,3),activation='relu',input_shape=(28,28,1)))\n",
    "MODEL_2.add(Conv2D(64,kernel_size=(3,3),activation='relu'))\n",
    "MODEL_2.add(Conv2D(128,kernel_size=(3,3),activation='relu'))\n",
    "MODEL_2.add(Flatten())\n",
    "MODEL_2.add(Dense(10,activation = 'softmax'))\n",
    "MODEL_2.compile(loss='categorical_crossentropy',optimizer=keras.optimizers.Adam(),metrics=['accuracy'])"
   ]
  },
  {
   "cell_type": "code",
   "execution_count": 0,
   "metadata": {
    "colab": {
     "base_uri": "https://localhost:8080/",
     "height": 471
    },
    "colab_type": "code",
    "id": "hTDcIVs2McrO",
    "outputId": "04b6d4ea-522b-4082-839e-d0e1544d87b9"
   },
   "outputs": [
    {
     "name": "stdout",
     "output_type": "stream",
     "text": [
      "Train on 60000 samples, validate on 10000 samples\n",
      "Epoch 1/12\n",
      "60000/60000 [==============================] - 416s 7ms/step - loss: 0.1356 - acc: 0.9591 - val_loss: 0.0434 - val_acc: 0.9862\n",
      "Epoch 2/12\n",
      "60000/60000 [==============================] - 416s 7ms/step - loss: 0.0431 - acc: 0.9867 - val_loss: 0.0463 - val_acc: 0.9855\n",
      "Epoch 3/12\n",
      "60000/60000 [==============================] - 415s 7ms/step - loss: 0.0285 - acc: 0.9914 - val_loss: 0.0383 - val_acc: 0.9877\n",
      "Epoch 4/12\n",
      "60000/60000 [==============================] - 418s 7ms/step - loss: 0.0201 - acc: 0.9939 - val_loss: 0.0382 - val_acc: 0.9880\n",
      "Epoch 5/12\n",
      "60000/60000 [==============================] - 415s 7ms/step - loss: 0.0133 - acc: 0.9958 - val_loss: 0.0352 - val_acc: 0.9893\n",
      "Epoch 6/12\n",
      "60000/60000 [==============================] - 412s 7ms/step - loss: 0.0104 - acc: 0.9965 - val_loss: 0.0401 - val_acc: 0.9887\n",
      "Epoch 7/12\n",
      "60000/60000 [==============================] - 416s 7ms/step - loss: 0.0085 - acc: 0.9971 - val_loss: 0.0491 - val_acc: 0.9877\n",
      "Epoch 8/12\n",
      "60000/60000 [==============================] - 417s 7ms/step - loss: 0.0082 - acc: 0.9971 - val_loss: 0.0443 - val_acc: 0.9897\n",
      "Epoch 9/12\n",
      "60000/60000 [==============================] - 416s 7ms/step - loss: 0.0051 - acc: 0.9982 - val_loss: 0.0570 - val_acc: 0.9884\n",
      "Epoch 10/12\n",
      "60000/60000 [==============================] - 415s 7ms/step - loss: 0.0050 - acc: 0.9984 - val_loss: 0.0662 - val_acc: 0.9876\n",
      "Epoch 11/12\n",
      "60000/60000 [==============================] - 415s 7ms/step - loss: 0.0067 - acc: 0.9977 - val_loss: 0.0590 - val_acc: 0.9888\n",
      "Epoch 12/12\n",
      "60000/60000 [==============================] - 416s 7ms/step - loss: 0.0044 - acc: 0.9987 - val_loss: 0.0557 - val_acc: 0.9886\n"
     ]
    }
   ],
   "source": [
    "HISTORY_2=MODEL_2.fit(X_TRAIN,Y_TRAIN,batch_size= 128,epochs=12,verbose=1,validation_data=(X_TEST,Y_TEST))"
   ]
  },
  {
   "cell_type": "code",
   "execution_count": 0,
   "metadata": {
    "colab": {
     "base_uri": "https://localhost:8080/",
     "height": 317
    },
    "colab_type": "code",
    "id": "ACB6XB-qMozm",
    "outputId": "3e5ea29b-5475-48c8-eb4f-e65c63126b3f"
   },
   "outputs": [
    {
     "name": "stdout",
     "output_type": "stream",
     "text": [
      "Test loss: 0.05569135631367976\n",
      "Test accuracy: 0.9886\n"
     ]
    },
    {
     "data": {
      "image/png": "[encoded data removed]",
      "text/plain": [
       "<Figure size 432x288 with 1 Axes>"
      ]
     },
     "metadata": {
      "tags": []
     },
     "output_type": "display_data"
    }
   ],
   "source": [
    "score = MODEL_2.evaluate(X_TEST, Y_TEST, verbose=0)\n",
    "TEST_LOSS.append(score[0])\n",
    "print('Test loss:', score[0])\n",
    "print('Test accuracy:', score[1])\n",
    "\n",
    "import matplotlib.pyplot as plt\n",
    "TRAIN_LOSS = HISTORY_2.history['loss']\n",
    "VAL_LOSS = HISTORY_2.history['val_loss']\n",
    "PLOT(VAL_LOSS,TRAIN_LOSS)"
   ]
  },
  {
   "cell_type": "markdown",
   "metadata": {
    "colab_type": "text",
    "id": "Pry9aYJqNAm-"
   },
   "source": [
    "# MODEL 3:\n",
    "\n",
    "* It is same as model1,but we changed optimizer,activation function and Kernel size\n",
    "\n",
    "Filter_1:32\n",
    "\n",
    "FIlter_2 :64\n",
    "\n",
    "\n",
    "Kerenel_size=5X5\n",
    "\n",
    "Activation Function: Sigmoid\n",
    "\n",
    "Optimizers: Adadelta\n",
    " \n",
    "\n"
   ]
  },
  {
   "cell_type": "code",
   "execution_count": 0,
   "metadata": {
    "colab": {},
    "colab_type": "code",
    "id": "XhIi7A92NAIC"
   },
   "outputs": [],
   "source": [
    "MODEL_3 = Sequential()\n",
    "MODEL_3.add(Conv2D(32,kernel_size=(5,5),activation='sigmoid',input_shape=(28,28,1)))\n",
    "MODEL_3.add(Conv2D(64,kernel_size=(5,5),activation='sigmoid'))\n",
    "\n",
    "MODEL_3.add(Flatten())\n",
    "MODEL_3.add(Dense(10,activation = 'softmax'))\n",
    "MODEL_3.compile(loss='categorical_crossentropy',optimizer=keras.optimizers.Adadelta(),metrics=['accuracy'])"
   ]
  },
  {
   "cell_type": "code",
   "execution_count": 0,
   "metadata": {
    "colab": {
     "base_uri": "https://localhost:8080/",
     "height": 471
    },
    "colab_type": "code",
    "id": "JLapnqEJOAbP",
    "outputId": "d41887c7-4ef3-43e2-fbcf-66a50f93a9d5"
   },
   "outputs": [
    {
     "name": "stdout",
     "output_type": "stream",
     "text": [
      "Train on 60000 samples, validate on 10000 samples\n",
      "Epoch 1/12\n",
      "60000/60000 [==============================] - 223s 4ms/step - loss: 1.2256 - acc: 0.6181 - val_loss: 0.2915 - val_acc: 0.9143\n",
      "Epoch 2/12\n",
      "60000/60000 [==============================] - 223s 4ms/step - loss: 0.2130 - acc: 0.9371 - val_loss: 0.1328 - val_acc: 0.9607\n",
      "Epoch 3/12\n",
      "60000/60000 [==============================] - 224s 4ms/step - loss: 0.1187 - acc: 0.9651 - val_loss: 0.0844 - val_acc: 0.9729\n",
      "Epoch 4/12\n",
      "60000/60000 [==============================] - 223s 4ms/step - loss: 0.0866 - acc: 0.9741 - val_loss: 0.0709 - val_acc: 0.9761\n",
      "Epoch 5/12\n",
      "60000/60000 [==============================] - 224s 4ms/step - loss: 0.0709 - acc: 0.9786 - val_loss: 0.0607 - val_acc: 0.9808\n",
      "Epoch 6/12\n",
      "60000/60000 [==============================] - 223s 4ms/step - loss: 0.0607 - acc: 0.9817 - val_loss: 0.0602 - val_acc: 0.9811\n",
      "Epoch 7/12\n",
      "60000/60000 [==============================] - 222s 4ms/step - loss: 0.0540 - acc: 0.9840 - val_loss: 0.0649 - val_acc: 0.9800\n",
      "Epoch 8/12\n",
      "60000/60000 [==============================] - 224s 4ms/step - loss: 0.0490 - acc: 0.9852 - val_loss: 0.0500 - val_acc: 0.9830\n",
      "Epoch 9/12\n",
      "60000/60000 [==============================] - 223s 4ms/step - loss: 0.0446 - acc: 0.9864 - val_loss: 0.0481 - val_acc: 0.9849\n",
      "Epoch 10/12\n",
      "60000/60000 [==============================] - 224s 4ms/step - loss: 0.0406 - acc: 0.9876 - val_loss: 0.0479 - val_acc: 0.9852\n",
      "Epoch 11/12\n",
      "60000/60000 [==============================] - 224s 4ms/step - loss: 0.0372 - acc: 0.9892 - val_loss: 0.0545 - val_acc: 0.9828\n",
      "Epoch 12/12\n",
      "60000/60000 [==============================] - 223s 4ms/step - loss: 0.0345 - acc: 0.9901 - val_loss: 0.0522 - val_acc: 0.9822\n"
     ]
    }
   ],
   "source": [
    "HISTORY_3=MODEL_3.fit(X_TRAIN,Y_TRAIN,batch_size= 128,epochs=12,verbose=1,validation_data=(X_TEST,Y_TEST))"
   ]
  },
  {
   "cell_type": "code",
   "execution_count": 0,
   "metadata": {
    "colab": {
     "base_uri": "https://localhost:8080/",
     "height": 317
    },
    "colab_type": "code",
    "id": "ro1xPOJBOH-6",
    "outputId": "d82b9ce2-debf-42c5-d9a4-613ba0ecdf6d"
   },
   "outputs": [
    {
     "name": "stdout",
     "output_type": "stream",
     "text": [
      "Test loss: 0.052183368785283527\n",
      "Test accuracy: 0.9822\n"
     ]
    },
    {
     "data": {
      "image/png": "[encoded data removed]",
      "text/plain": [
       "<Figure size 432x288 with 1 Axes>"
      ]
     },
     "metadata": {
      "tags": []
     },
     "output_type": "display_data"
    }
   ],
   "source": [
    "score = MODEL_3.evaluate(X_TEST, Y_TEST, verbose=0)\n",
    "TEST_LOSS.append(score[0])\n",
    "print('Test loss:', score[0])\n",
    "print('Test accuracy:', score[1])\n",
    "\n",
    "import matplotlib.pyplot as plt\n",
    "TRAIN_LOSS = HISTORY_3.history['loss']\n",
    "VAL_LOSS = HISTORY_3.history['val_loss']\n",
    "PLOT(VAL_LOSS,TRAIN_LOSS)"
   ]
  },
  {
   "cell_type": "markdown",
   "metadata": {
    "colab_type": "text",
    "id": "w0QEaPaGOOXr"
   },
   "source": [
    "# MODEL_4:\n",
    "\n",
    "* What will happen If I do Maxpooling and Dropout in MoDEL_3?\n",
    "\n",
    "Filter_1:32\n",
    "\n",
    "FIlter_2 :64\n",
    "\n",
    "\n",
    "Kerenel_size=5X5\n",
    "\n",
    "Activation Function: Sigmoid\n",
    "\n",
    "Optimizers: Adadelta\n",
    "\n",
    "Maxpooling : Pool_size=(2X2)\n",
    "\n",
    "Dropout _rate = 0.3"
   ]
  },
  {
   "cell_type": "code",
   "execution_count": 0,
   "metadata": {
    "colab": {
     "base_uri": "https://localhost:8080/",
     "height": 124
    },
    "colab_type": "code",
    "id": "wIJhymI7O4fq",
    "outputId": "c43dda98-6b94-4b64-c71d-98f21378febd"
   },
   "outputs": [
    {
     "name": "stderr",
     "output_type": "stream",
     "text": [
      "W0902 06:31:11.854401 140422688589696 deprecation_wrapper.py:119] From /usr/local/lib/python3.6/dist-packages/keras/backend/tensorflow_backend.py:4267: The name tf.nn.max_pool is deprecated. Please use tf.nn.max_pool2d instead.\n",
      "\n",
      "W0902 06:31:11.866156 140422688589696 deprecation.py:506] From /usr/local/lib/python3.6/dist-packages/keras/backend/tensorflow_backend.py:3733: calling dropout (from tensorflow.python.ops.nn_ops) with keep_prob is deprecated and will be removed in a future version.\n",
      "Instructions for updating:\n",
      "Please use `rate` instead of `keep_prob`. Rate should be set to `rate = 1 - keep_prob`.\n"
     ]
    }
   ],
   "source": [
    "MODEL_4 = Sequential()\n",
    "MODEL_4.add(Conv2D(32,kernel_size=(5,5),activation='sigmoid',input_shape=(28,28,1)))\n",
    "MODEL_4.add(MaxPooling2D(pool_size=(2, 2)))\n",
    "MODEL_4.add(Dropout(0.3))\n",
    "\n",
    "MODEL_4.add(Conv2D(64,kernel_size=(5,5),activation='sigmoid'))\n",
    "MODEL_4.add(MaxPooling2D(pool_size=(2, 2)))\n",
    "MODEL_4.add(Dropout(0.3))\n",
    "\n",
    "MODEL_4.add(Flatten())\n",
    "MODEL_4.add(Dense(10,activation = 'softmax'))\n",
    "MODEL_4.compile(loss='categorical_crossentropy',optimizer=keras.optimizers.Adadelta(),metrics=['accuracy'])"
   ]
  },
  {
   "cell_type": "code",
   "execution_count": 0,
   "metadata": {
    "colab": {
     "base_uri": "https://localhost:8080/",
     "height": 471
    },
    "colab_type": "code",
    "id": "cLUao3uPPYKh",
    "outputId": "f445993d-fb4e-4ee0-c608-8d17c8d18a81"
   },
   "outputs": [
    {
     "name": "stdout",
     "output_type": "stream",
     "text": [
      "Train on 60000 samples, validate on 10000 samples\n",
      "Epoch 1/12\n",
      "60000/60000 [==============================] - 61s 1ms/step - loss: 1.1726 - acc: 0.5917 - val_loss: 0.2891 - val_acc: 0.9155\n",
      "Epoch 2/12\n",
      "60000/60000 [==============================] - 61s 1ms/step - loss: 0.2503 - acc: 0.9245 - val_loss: 0.1423 - val_acc: 0.9564\n",
      "Epoch 3/12\n",
      "60000/60000 [==============================] - 61s 1ms/step - loss: 0.1567 - acc: 0.9525 - val_loss: 0.0941 - val_acc: 0.9718\n",
      "Epoch 4/12\n",
      "60000/60000 [==============================] - 62s 1ms/step - loss: 0.1204 - acc: 0.9636 - val_loss: 0.0753 - val_acc: 0.9769\n",
      "Epoch 5/12\n",
      "60000/60000 [==============================] - 60s 1ms/step - loss: 0.1035 - acc: 0.9678 - val_loss: 0.0634 - val_acc: 0.9800\n",
      "Epoch 6/12\n",
      "60000/60000 [==============================] - 61s 1ms/step - loss: 0.0906 - acc: 0.9719 - val_loss: 0.0551 - val_acc: 0.9827\n",
      "Epoch 7/12\n",
      "60000/60000 [==============================] - 62s 1ms/step - loss: 0.0820 - acc: 0.9744 - val_loss: 0.0506 - val_acc: 0.9852\n",
      "Epoch 8/12\n",
      "60000/60000 [==============================] - 62s 1ms/step - loss: 0.0746 - acc: 0.9771 - val_loss: 0.0463 - val_acc: 0.9863\n",
      "Epoch 9/12\n",
      "60000/60000 [==============================] - 62s 1ms/step - loss: 0.0696 - acc: 0.9785 - val_loss: 0.0448 - val_acc: 0.9851\n",
      "Epoch 10/12\n",
      "60000/60000 [==============================] - 62s 1ms/step - loss: 0.0682 - acc: 0.9786 - val_loss: 0.0415 - val_acc: 0.9862\n",
      "Epoch 11/12\n",
      "60000/60000 [==============================] - 62s 1ms/step - loss: 0.0624 - acc: 0.9802 - val_loss: 0.0390 - val_acc: 0.9868\n",
      "Epoch 12/12\n",
      "60000/60000 [==============================] - 62s 1ms/step - loss: 0.0605 - acc: 0.9809 - val_loss: 0.0393 - val_acc: 0.9873\n"
     ]
    }
   ],
   "source": [
    "HISTORY_4=MODEL_4.fit(X_TRAIN,Y_TRAIN,batch_size= 128,epochs=12,verbose=1,validation_data=(X_TEST,Y_TEST))"
   ]
  },
  {
   "cell_type": "code",
   "execution_count": 0,
   "metadata": {
    "colab": {
     "base_uri": "https://localhost:8080/",
     "height": 317
    },
    "colab_type": "code",
    "id": "ZPCRin8bPcSM",
    "outputId": "3c4ce674-e810-445d-a74f-2873c46bc1b6"
   },
   "outputs": [
    {
     "name": "stdout",
     "output_type": "stream",
     "text": [
      "Test loss: 0.03925352229541167\n",
      "Test accuracy: 0.9873\n"
     ]
    },
    {
     "data": {
      "image/png": "[encoded data removed]",
      "text/plain": [
       "<Figure size 432x288 with 1 Axes>"
      ]
     },
     "metadata": {
      "tags": []
     },
     "output_type": "display_data"
    }
   ],
   "source": [
    "score = MODEL_4.evaluate(X_TEST, Y_TEST, verbose=0)\n",
    "TEST_LOSS.append(score[0])\n",
    "print('Test loss:', score[0])\n",
    "print('Test accuracy:', score[1])\n",
    "\n",
    "import matplotlib.pyplot as plt\n",
    "TRAIN_LOSS = HISTORY_4.history['loss']\n",
    "VAL_LOSS = HISTORY_4.history['val_loss']\n",
    "PLOT(VAL_LOSS,TRAIN_LOSS)"
   ]
  },
  {
   "cell_type": "markdown",
   "metadata": {
    "colab_type": "text",
    "id": "hA6ZF5ulPfs3"
   },
   "source": [
    "# MODEL_5:\n",
    "\n",
    "* What if ,we add Maxpooling,Batch Normalization ,Dropout in model_3"
   ]
  },
  {
   "cell_type": "code",
   "execution_count": 0,
   "metadata": {
    "colab": {
     "base_uri": "https://localhost:8080/",
     "height": 71
    },
    "colab_type": "code",
    "id": "niiPJtilPv2O",
    "outputId": "db653846-28c3-4132-f9b8-28b136332bc7"
   },
   "outputs": [
    {
     "name": "stderr",
     "output_type": "stream",
     "text": [
      "W0902 06:43:33.402087 140422688589696 deprecation_wrapper.py:119] From /usr/local/lib/python3.6/dist-packages/keras/backend/tensorflow_backend.py:2041: The name tf.nn.fused_batch_norm is deprecated. Please use tf.compat.v1.nn.fused_batch_norm instead.\n",
      "\n"
     ]
    }
   ],
   "source": [
    "MODEL_5 = Sequential()\n",
    "MODEL_5.add(Conv2D(32,kernel_size=(5,5),activation='sigmoid',input_shape=(28,28,1)))\n",
    "MODEL_5.add(BatchNormalization(axis=-1))\n",
    "MODEL_5.add(Dropout(0.3))\n",
    "MODEL_5.add(MaxPooling2D(pool_size=(2, 2)))\n",
    "\n",
    "MODEL_5.add(Conv2D(64,kernel_size=(5,5),activation='sigmoid'))\n",
    "MODEL_5.add(BatchNormalization(axis=-1))\n",
    "MODEL_5.add(Dropout(0.3))\n",
    "MODEL_5.add(MaxPooling2D(pool_size=(2, 2)))\n",
    "\n",
    "MODEL_5.add(Flatten())\n",
    "MODEL_5.add(Dense(10,activation = 'softmax'))\n",
    "MODEL_5.compile(loss='categorical_crossentropy',optimizer=keras.optimizers.Adadelta(),metrics=['accuracy'])"
   ]
  },
  {
   "cell_type": "code",
   "execution_count": 0,
   "metadata": {
    "colab": {
     "base_uri": "https://localhost:8080/",
     "height": 471
    },
    "colab_type": "code",
    "id": "OozAVd7ZUkDx",
    "outputId": "8e22cb6f-6a30-4d6e-fc34-78ecccaeb99c"
   },
   "outputs": [
    {
     "name": "stdout",
     "output_type": "stream",
     "text": [
      "Train on 60000 samples, validate on 10000 samples\n",
      "Epoch 1/12\n",
      "60000/60000 [==============================] - 111s 2ms/step - loss: 0.1847 - acc: 0.9425 - val_loss: 0.2297 - val_acc: 0.9294\n",
      "Epoch 2/12\n",
      "60000/60000 [==============================] - 110s 2ms/step - loss: 0.0641 - acc: 0.9798 - val_loss: 0.1932 - val_acc: 0.9350\n",
      "Epoch 3/12\n",
      "60000/60000 [==============================] - 111s 2ms/step - loss: 0.0462 - acc: 0.9857 - val_loss: 0.0690 - val_acc: 0.9784\n",
      "Epoch 4/12\n",
      "60000/60000 [==============================] - 111s 2ms/step - loss: 0.0377 - acc: 0.9879 - val_loss: 0.2746 - val_acc: 0.9272\n",
      "Epoch 5/12\n",
      "60000/60000 [==============================] - 110s 2ms/step - loss: 0.0314 - acc: 0.9903 - val_loss: 0.4505 - val_acc: 0.9058\n",
      "Epoch 6/12\n",
      "60000/60000 [==============================] - 111s 2ms/step - loss: 0.0274 - acc: 0.9915 - val_loss: 0.1589 - val_acc: 0.9529\n",
      "Epoch 7/12\n",
      "60000/60000 [==============================] - 111s 2ms/step - loss: 0.0250 - acc: 0.9923 - val_loss: 0.1460 - val_acc: 0.9606\n",
      "Epoch 8/12\n",
      "60000/60000 [==============================] - 111s 2ms/step - loss: 0.0229 - acc: 0.9927 - val_loss: 0.2510 - val_acc: 0.9424\n",
      "Epoch 9/12\n",
      "60000/60000 [==============================] - 111s 2ms/step - loss: 0.0200 - acc: 0.9938 - val_loss: 0.2115 - val_acc: 0.9490\n",
      "Epoch 10/12\n",
      "60000/60000 [==============================] - 111s 2ms/step - loss: 0.0188 - acc: 0.9935 - val_loss: 0.2008 - val_acc: 0.9543\n",
      "Epoch 11/12\n",
      "60000/60000 [==============================] - 111s 2ms/step - loss: 0.0177 - acc: 0.9942 - val_loss: 0.2150 - val_acc: 0.9517\n",
      "Epoch 12/12\n",
      "60000/60000 [==============================] - 112s 2ms/step - loss: 0.0162 - acc: 0.9949 - val_loss: 0.2018 - val_acc: 0.9527\n"
     ]
    }
   ],
   "source": [
    "HISTORY_5=MODEL_5.fit(X_TRAIN,Y_TRAIN,batch_size= 128,epochs=12,verbose=1,validation_data=(X_TEST,Y_TEST))"
   ]
  },
  {
   "cell_type": "code",
   "execution_count": 0,
   "metadata": {
    "colab": {
     "base_uri": "https://localhost:8080/",
     "height": 317
    },
    "colab_type": "code",
    "id": "QHodgjx4UtUF",
    "outputId": "bff48243-e603-4918-f8a3-280c3fe4316d"
   },
   "outputs": [
    {
     "name": "stdout",
     "output_type": "stream",
     "text": [
      "Test loss: 0.20177652775691823\n",
      "Test accuracy: 0.9527\n"
     ]
    },
    {
     "data": {
      "image/png": "[encoded data removed]",
      "text/plain": [
       "<Figure size 432x288 with 1 Axes>"
      ]
     },
     "metadata": {
      "tags": []
     },
     "output_type": "display_data"
    }
   ],
   "source": [
    "score = MODEL_5.evaluate(X_TEST, Y_TEST, verbose=0)\n",
    "TEST_LOSS.append(score[0])\n",
    "print('Test loss:', score[0])\n",
    "print('Test accuracy:', score[1])\n",
    "\n",
    "import matplotlib.pyplot as plt\n",
    "TRAIN_LOSS = HISTORY_5.history['loss']\n",
    "VAL_LOSS = HISTORY_5.history['val_loss']\n",
    "PLOT(VAL_LOSS,TRAIN_LOSS)"
   ]
  },
  {
   "cell_type": "markdown",
   "metadata": {
    "colab_type": "text",
    "id": "i298SkQBUw7Q"
   },
   "source": [
    "# MODEL:6\n",
    "\n",
    "\n",
    "\n",
    "\n",
    "Filter_1:20\n",
    "\n",
    "FIlter_2 :40\n",
    "\n",
    "Filter_3 : 60\n",
    "\n",
    "Kerenel_size=7X7\n",
    "\n",
    "Activation Function: Relu\n",
    "\n",
    "Optimizers: Adamax\n",
    "\n",
    "Maxpooling : Pool_size=(4X4)\n",
    "\n",
    "Dropout _rate = 0.3"
   ]
  },
  {
   "cell_type": "code",
   "execution_count": 0,
   "metadata": {
    "colab": {},
    "colab_type": "code",
    "id": "ExfenqgDVZnq"
   },
   "outputs": [],
   "source": [
    "MODEL_6 = Sequential()\n",
    "MODEL_6.add(Conv2D(20,kernel_size=(1,1),activation='relu',input_shape=(28,28,1)))\n",
    "MODEL_6.add(BatchNormalization(axis=-1))\n",
    "MODEL_6.add(Dropout(0.3))\n",
    "MODEL_6.add(MaxPooling2D(pool_size=(2, 2)))\n",
    "\n",
    "MODEL_6.add(Conv2D(40,kernel_size=(1,1),activation='relu'))\n",
    "MODEL_6.add(BatchNormalization(axis=-1))\n",
    "MODEL_6.add(Dropout(0.3))\n",
    "MODEL_6.add(MaxPooling2D(pool_size=(2, 2)))\n",
    "\n",
    "MODEL_6.add(Conv2D(60,kernel_size=(1,1),activation='relu'))\n",
    "MODEL_6.add(BatchNormalization(axis=-1))\n",
    "MODEL_6.add(Dropout(0.3))\n",
    "MODEL_6.add(MaxPooling2D(pool_size=(2, 2)))\n",
    "\n",
    "MODEL_6.add(Flatten())\n",
    "MODEL_6.add(Dense(10,activation = 'softmax'))\n",
    "MODEL_6.compile(loss='categorical_crossentropy',optimizer=keras.optimizers.Adamax(),metrics=['accuracy'])"
   ]
  },
  {
   "cell_type": "code",
   "execution_count": 0,
   "metadata": {
    "colab": {
     "base_uri": "https://localhost:8080/",
     "height": 471
    },
    "colab_type": "code",
    "id": "8nvy6q23V9zz",
    "outputId": "c1e61a0f-fb3b-45b9-fc58-0eddcfe5f9a9"
   },
   "outputs": [
    {
     "name": "stdout",
     "output_type": "stream",
     "text": [
      "Train on 60000 samples, validate on 10000 samples\n",
      "Epoch 1/12\n",
      "60000/60000 [==============================] - 96s 2ms/step - loss: 1.6944 - acc: 0.4547 - val_loss: 1.9518 - val_acc: 0.4278\n",
      "Epoch 2/12\n",
      "60000/60000 [==============================] - 93s 2ms/step - loss: 1.1886 - acc: 0.5951 - val_loss: 1.5735 - val_acc: 0.5034\n",
      "Epoch 3/12\n",
      "60000/60000 [==============================] - 93s 2ms/step - loss: 1.0886 - acc: 0.6330 - val_loss: 1.5932 - val_acc: 0.5088\n",
      "Epoch 4/12\n",
      "60000/60000 [==============================] - 92s 2ms/step - loss: 1.0303 - acc: 0.6546 - val_loss: 1.8886 - val_acc: 0.4533\n",
      "Epoch 5/12\n",
      "60000/60000 [==============================] - 91s 2ms/step - loss: 0.9855 - acc: 0.6723 - val_loss: 2.4355 - val_acc: 0.3900\n",
      "Epoch 6/12\n",
      "60000/60000 [==============================] - 88s 1ms/step - loss: 0.9623 - acc: 0.6814 - val_loss: 2.7681 - val_acc: 0.3699\n",
      "Epoch 7/12\n",
      "60000/60000 [==============================] - 88s 1ms/step - loss: 0.9395 - acc: 0.6896 - val_loss: 3.3672 - val_acc: 0.3316\n",
      "Epoch 8/12\n",
      "60000/60000 [==============================] - 88s 1ms/step - loss: 0.9260 - acc: 0.6921 - val_loss: 3.4895 - val_acc: 0.3275\n",
      "Epoch 9/12\n",
      "60000/60000 [==============================] - 88s 1ms/step - loss: 0.9184 - acc: 0.6970 - val_loss: 3.3844 - val_acc: 0.3503\n",
      "Epoch 10/12\n",
      "60000/60000 [==============================] - 89s 1ms/step - loss: 0.9068 - acc: 0.7012 - val_loss: 3.5970 - val_acc: 0.3340\n",
      "Epoch 11/12\n",
      "60000/60000 [==============================] - 89s 1ms/step - loss: 0.9010 - acc: 0.7020 - val_loss: 3.3254 - val_acc: 0.3506\n",
      "Epoch 12/12\n",
      "60000/60000 [==============================] - 89s 1ms/step - loss: 0.8944 - acc: 0.7051 - val_loss: 3.4552 - val_acc: 0.3408\n"
     ]
    }
   ],
   "source": [
    "HISTORY_6=MODEL_6.fit(X_TRAIN,Y_TRAIN,batch_size= 128,epochs=12,verbose=1,validation_data=(X_TEST,Y_TEST))"
   ]
  },
  {
   "cell_type": "code",
   "execution_count": 0,
   "metadata": {
    "colab": {
     "base_uri": "https://localhost:8080/",
     "height": 317
    },
    "colab_type": "code",
    "id": "eZU0lUqjWCpt",
    "outputId": "5447980f-c663-4846-c1b0-d2355a4d9ba9"
   },
   "outputs": [
    {
     "name": "stdout",
     "output_type": "stream",
     "text": [
      "Test loss: 3.4551548400878906\n",
      "Test accuracy: 0.3408\n"
     ]
    },
    {
     "data": {
      "image/png": "[encoded data removed]",
      "text/plain": [
       "<Figure size 432x288 with 1 Axes>"
      ]
     },
     "metadata": {
      "tags": []
     },
     "output_type": "display_data"
    }
   ],
   "source": [
    "score = MODEL_6.evaluate(X_TEST, Y_TEST, verbose=0)\n",
    "TEST_LOSS.append(score[0])\n",
    "print('Test loss:', score[0])\n",
    "print('Test accuracy:', score[1])\n",
    "\n",
    "import matplotlib.pyplot as plt\n",
    "TRAIN_LOSS = HISTORY_6.history['loss']\n",
    "VAL_LOSS = HISTORY_6.history['val_loss']\n",
    "PLOT(VAL_LOSS,TRAIN_LOSS)"
   ]
  },
  {
   "cell_type": "code",
   "execution_count": 0,
   "metadata": {
    "colab": {},
    "colab_type": "code",
    "id": "0drn6icWeb2s"
   },
   "outputs": [],
   "source": []
  },
  {
   "cell_type": "markdown",
   "metadata": {
    "colab_type": "text",
    "id": "DQYudq3AshOP"
   },
   "source": [
    "# MODEL:7\n",
    "\n",
    "\n",
    "\n",
    "\n",
    "\n",
    "\n",
    "\n",
    "Filter_1:10\n",
    "\n",
    "FIlter_2 :30\n",
    "\n",
    "\n",
    "Kerenel_size=7X7\n",
    "\n",
    "Activation Function: tanh\n",
    "\n",
    "Optimizers: Adam\n",
    "\n",
    "Maxpooling : Pool_size=(4X4)\n",
    "\n",
    "BATCH_NORMALIZTION\n",
    "\n",
    "Dropout _rate = 0.3\n",
    "\n",
    "Two MLP layer(sigmoid activation) followed by output layer having softmax activation."
   ]
  },
  {
   "cell_type": "code",
   "execution_count": 0,
   "metadata": {
    "colab": {},
    "colab_type": "code",
    "id": "t6fGckGlsGh8"
   },
   "outputs": [],
   "source": [
    "MODEL_7 = Sequential()\n",
    "MODEL_7.add(Conv2D(20,kernel_size=(3,3),activation='tanh',input_shape=(28,28,1)))\n",
    "MODEL_7.add(BatchNormalization(axis=-1))\n",
    "MODEL_7.add(Dropout(0.3))\n",
    "MODEL_7.add(MaxPooling2D(pool_size=(4, 4)))\n",
    "\n",
    "MODEL_7.add(Conv2D(40,kernel_size=(3,3),activation='tanh'))\n",
    "MODEL_7.add(BatchNormalization(axis=-1))\n",
    "MODEL_7.add(Dropout(0.3))\n",
    "MODEL_7.add(MaxPooling2D(pool_size=(4, 4)))\n",
    "\n",
    "\n",
    "\n",
    "MODEL_7.add(Flatten())\n",
    "MODEL_7.add(Dense(40,activation = 'sigmoid'))\n",
    "MODEL_7.add(Dense(20,activation = 'sigmoid'))\n",
    "MODEL_7.add(Dense(10,activation = 'softmax'))\n",
    "MODEL_7.compile(loss='categorical_crossentropy',optimizer=keras.optimizers.Adam(),metrics=['accuracy'])"
   ]
  },
  {
   "cell_type": "code",
   "execution_count": 0,
   "metadata": {
    "colab": {
     "base_uri": "https://localhost:8080/",
     "height": 471
    },
    "colab_type": "code",
    "id": "DaBgEEyBIaHu",
    "outputId": "cb84b31c-1633-47bd-9fb4-e615c856d36d"
   },
   "outputs": [
    {
     "name": "stdout",
     "output_type": "stream",
     "text": [
      "Train on 60000 samples, validate on 10000 samples\n",
      "Epoch 1/12\n",
      "60000/60000 [==============================] - 58s 959us/step - loss: 1.4654 - acc: 0.6418 - val_loss: 1.3534 - val_acc: 0.5442\n",
      "Epoch 2/12\n",
      "60000/60000 [==============================] - 56s 937us/step - loss: 0.5174 - acc: 0.8931 - val_loss: 0.7975 - val_acc: 0.7461\n",
      "Epoch 3/12\n",
      "60000/60000 [==============================] - 56s 936us/step - loss: 0.3076 - acc: 0.9238 - val_loss: 0.7459 - val_acc: 0.7648\n",
      "Epoch 4/12\n",
      "60000/60000 [==============================] - 56s 935us/step - loss: 0.2349 - acc: 0.9374 - val_loss: 0.5748 - val_acc: 0.8166\n",
      "Epoch 5/12\n",
      "60000/60000 [==============================] - 56s 936us/step - loss: 0.2027 - acc: 0.9435 - val_loss: 0.6626 - val_acc: 0.7893\n",
      "Epoch 6/12\n",
      "60000/60000 [==============================] - 56s 936us/step - loss: 0.1758 - acc: 0.9502 - val_loss: 0.5220 - val_acc: 0.8417\n",
      "Epoch 7/12\n",
      "60000/60000 [==============================] - 56s 939us/step - loss: 0.1649 - acc: 0.9537 - val_loss: 0.6035 - val_acc: 0.8141\n",
      "Epoch 8/12\n",
      "60000/60000 [==============================] - 57s 943us/step - loss: 0.1556 - acc: 0.9547 - val_loss: 0.7147 - val_acc: 0.7798\n",
      "Epoch 9/12\n",
      "60000/60000 [==============================] - 57s 953us/step - loss: 0.1427 - acc: 0.9585 - val_loss: 0.4806 - val_acc: 0.8555\n",
      "Epoch 10/12\n",
      "60000/60000 [==============================] - 57s 951us/step - loss: 0.1353 - acc: 0.9600 - val_loss: 0.5641 - val_acc: 0.8310\n",
      "Epoch 11/12\n",
      "60000/60000 [==============================] - 57s 953us/step - loss: 0.1295 - acc: 0.9614 - val_loss: 0.3454 - val_acc: 0.8982\n",
      "Epoch 12/12\n",
      "60000/60000 [==============================] - 58s 963us/step - loss: 0.1243 - acc: 0.9630 - val_loss: 0.4575 - val_acc: 0.8597\n"
     ]
    }
   ],
   "source": [
    "HISTORY_7=MODEL_7.fit(X_TRAIN,Y_TRAIN,batch_size= 128,epochs=12,verbose=1,validation_data=(X_TEST,Y_TEST))"
   ]
  },
  {
   "cell_type": "code",
   "execution_count": 0,
   "metadata": {
    "colab": {
     "base_uri": "https://localhost:8080/",
     "height": 317
    },
    "colab_type": "code",
    "id": "7HY_xcdiTldp",
    "outputId": "fa047948-c5ee-4d1c-9b5c-734d9d563efd"
   },
   "outputs": [
    {
     "name": "stdout",
     "output_type": "stream",
     "text": [
      "Test loss: 0.45748621554374697\n",
      "Test accuracy: 0.8597\n"
     ]
    },
    {
     "data": {
      "image/png": "[encoded data removed]",
      "text/plain": [
       "<Figure size 432x288 with 1 Axes>"
      ]
     },
     "metadata": {
      "tags": []
     },
     "output_type": "display_data"
    }
   ],
   "source": [
    "score = MODEL_7.evaluate(X_TEST, Y_TEST, verbose=0)\n",
    "TEST_LOSS.append(score[0])\n",
    "print('Test loss:', score[0])\n",
    "print('Test accuracy:', score[1])\n",
    "\n",
    "import matplotlib.pyplot as plt\n",
    "TRAIN_LOSS = HISTORY_7.history['loss']\n",
    "VAL_LOSS = HISTORY_7.history['val_loss']\n",
    "PLOT(VAL_LOSS,TRAIN_LOSS)"
   ]
  },
  {
   "cell_type": "markdown",
   "metadata": {
    "colab_type": "text",
    "id": "nOSJpufIkiSL"
   },
   "source": [
    "# MODEL:8"
   ]
  },
  {
   "cell_type": "code",
   "execution_count": 0,
   "metadata": {
    "colab": {},
    "colab_type": "code",
    "id": "6AsHGczqTp8U"
   },
   "outputs": [],
   "source": [
    "MODEL_8 = Sequential()\n",
    "MODEL_8.add(Conv2D(64,kernel_size=(3,3),activation='relu',input_shape=(28,28,1)))\n",
    "MODEL_8.add(BatchNormalization(axis=-1))\n",
    "MODEL_8.add(Dropout(0.4))\n",
    "MODEL_8.add(MaxPooling2D(pool_size=(4, 4)))\n",
    "\n",
    "MODEL_8.add(Conv2D(128,kernel_size=(3,3),activation='relu'))\n",
    "MODEL_8.add(BatchNormalization(axis=-1))\n",
    "MODEL_8.add(Dropout(0.4))\n",
    "MODEL_8.add(MaxPooling2D(pool_size=(4, 4)))\n",
    "\n",
    "\n",
    "\n",
    "MODEL_8.add(Flatten())\n",
    "MODEL_8.add(Dense(60,activation = 'relu'))\n",
    "MODEL_8.add(Dense(40,activation = 'relu'))\n",
    "MODEL_8.add(Dense(10,activation = 'softmax'))\n",
    "MODEL_8.compile(loss='categorical_crossentropy',optimizer=keras.optimizers.Adam(),metrics=['accuracy'])"
   ]
  },
  {
   "cell_type": "code",
   "execution_count": 0,
   "metadata": {
    "colab": {
     "base_uri": "https://localhost:8080/",
     "height": 471
    },
    "colab_type": "code",
    "id": "2dJ77lMrYaHM",
    "outputId": "a80a423b-31ca-46d1-efb4-13ced60a4c8f"
   },
   "outputs": [
    {
     "name": "stdout",
     "output_type": "stream",
     "text": [
      "Train on 60000 samples, validate on 10000 samples\n",
      "Epoch 1/12\n",
      "60000/60000 [==============================] - 165s 3ms/step - loss: 0.3043 - acc: 0.9050 - val_loss: 0.3595 - val_acc: 0.8986\n",
      "Epoch 2/12\n",
      "60000/60000 [==============================] - 167s 3ms/step - loss: 0.1075 - acc: 0.9672 - val_loss: 0.1626 - val_acc: 0.9699\n",
      "Epoch 3/12\n",
      "60000/60000 [==============================] - 165s 3ms/step - loss: 0.0805 - acc: 0.9754 - val_loss: 0.1512 - val_acc: 0.9685\n",
      "Epoch 4/12\n",
      "60000/60000 [==============================] - 165s 3ms/step - loss: 0.0701 - acc: 0.9783 - val_loss: 0.1250 - val_acc: 0.9709\n",
      "Epoch 5/12\n",
      "60000/60000 [==============================] - 162s 3ms/step - loss: 0.0625 - acc: 0.9802 - val_loss: 0.1329 - val_acc: 0.9670\n",
      "Epoch 6/12\n",
      "60000/60000 [==============================] - 163s 3ms/step - loss: 0.0580 - acc: 0.9825 - val_loss: 0.1546 - val_acc: 0.9560\n",
      "Epoch 7/12\n",
      "60000/60000 [==============================] - 163s 3ms/step - loss: 0.0518 - acc: 0.9833 - val_loss: 0.1020 - val_acc: 0.9737\n",
      "Epoch 8/12\n",
      "60000/60000 [==============================] - 162s 3ms/step - loss: 0.0522 - acc: 0.9837 - val_loss: 0.1455 - val_acc: 0.9589\n",
      "Epoch 9/12\n",
      "60000/60000 [==============================] - 164s 3ms/step - loss: 0.0469 - acc: 0.9850 - val_loss: 0.1651 - val_acc: 0.9607\n",
      "Epoch 10/12\n",
      "60000/60000 [==============================] - 164s 3ms/step - loss: 0.0453 - acc: 0.9858 - val_loss: 0.3598 - val_acc: 0.9005\n",
      "Epoch 11/12\n",
      "60000/60000 [==============================] - 162s 3ms/step - loss: 0.0442 - acc: 0.9861 - val_loss: 0.2221 - val_acc: 0.9606\n",
      "Epoch 12/12\n",
      "60000/60000 [==============================] - 147s 2ms/step - loss: 0.0403 - acc: 0.9874 - val_loss: 0.1497 - val_acc: 0.9696\n"
     ]
    }
   ],
   "source": [
    "HISTORY_8=MODEL_8.fit(X_TRAIN,Y_TRAIN,batch_size= 128,epochs=12,verbose=1,validation_data=(X_TEST,Y_TEST))"
   ]
  },
  {
   "cell_type": "code",
   "execution_count": 0,
   "metadata": {
    "colab": {
     "base_uri": "https://localhost:8080/",
     "height": 317
    },
    "colab_type": "code",
    "id": "MM-4HQsBYeQF",
    "outputId": "cdb4ee73-8f38-4fc4-ce55-aca916748b00"
   },
   "outputs": [
    {
     "name": "stdout",
     "output_type": "stream",
     "text": [
      "Test loss: 0.1496657036446035\n",
      "Test accuracy: 0.9696\n"
     ]
    },
    {
     "data": {
      "image/png": "[encoded data removed]",
      "text/plain": [
       "<Figure size 432x288 with 1 Axes>"
      ]
     },
     "metadata": {
      "tags": []
     },
     "output_type": "display_data"
    }
   ],
   "source": [
    "score = MODEL_8.evaluate(X_TEST, Y_TEST, verbose=0)\n",
    "TEST_LOSS.append(score[0])\n",
    "print('Test loss:', score[0])\n",
    "print('Test accuracy:', score[1])\n",
    "\n",
    "import matplotlib.pyplot as plt\n",
    "TRAIN_LOSS = HISTORY_8.history['loss']\n",
    "VAL_LOSS = HISTORY_8.history['val_loss']\n",
    "PLOT(VAL_LOSS,TRAIN_LOSS)\n",
    "\n"
   ]
  },
  {
   "cell_type": "markdown",
   "metadata": {
    "colab_type": "text",
    "id": "CjruC06ukm9_"
   },
   "source": [
    "# MODEL:9"
   ]
  },
  {
   "cell_type": "code",
   "execution_count": 9,
   "metadata": {
    "colab": {
     "base_uri": "https://localhost:8080/",
     "height": 384
    },
    "colab_type": "code",
    "id": "7tBio7C1dCy0",
    "outputId": "29accb2f-4b90-4143-8bf8-d70b06fe32b8"
   },
   "outputs": [
    {
     "name": "stderr",
     "output_type": "stream",
     "text": [
      "WARNING: Logging before flag parsing goes to stderr.\n",
      "W0902 15:56:29.891176 140115145213824 deprecation_wrapper.py:119] From /usr/local/lib/python3.6/dist-packages/keras/backend/tensorflow_backend.py:66: The name tf.get_default_graph is deprecated. Please use tf.compat.v1.get_default_graph instead.\n",
      "\n",
      "W0902 15:56:29.934309 140115145213824 deprecation_wrapper.py:119] From /usr/local/lib/python3.6/dist-packages/keras/backend/tensorflow_backend.py:541: The name tf.placeholder is deprecated. Please use tf.compat.v1.placeholder instead.\n",
      "\n",
      "W0902 15:56:29.941558 140115145213824 deprecation_wrapper.py:119] From /usr/local/lib/python3.6/dist-packages/keras/backend/tensorflow_backend.py:4432: The name tf.random_uniform is deprecated. Please use tf.random.uniform instead.\n",
      "\n",
      "W0902 15:56:29.996532 140115145213824 deprecation_wrapper.py:119] From /usr/local/lib/python3.6/dist-packages/keras/backend/tensorflow_backend.py:190: The name tf.get_default_session is deprecated. Please use tf.compat.v1.get_default_session instead.\n",
      "\n",
      "W0902 15:56:29.997814 140115145213824 deprecation_wrapper.py:119] From /usr/local/lib/python3.6/dist-packages/keras/backend/tensorflow_backend.py:197: The name tf.ConfigProto is deprecated. Please use tf.compat.v1.ConfigProto instead.\n",
      "\n",
      "W0902 15:56:30.309979 140115145213824 deprecation_wrapper.py:119] From /usr/local/lib/python3.6/dist-packages/keras/backend/tensorflow_backend.py:2041: The name tf.nn.fused_batch_norm is deprecated. Please use tf.compat.v1.nn.fused_batch_norm instead.\n",
      "\n",
      "W0902 15:56:30.384711 140115145213824 deprecation.py:506] From /usr/local/lib/python3.6/dist-packages/keras/backend/tensorflow_backend.py:3733: calling dropout (from tensorflow.python.ops.nn_ops) with keep_prob is deprecated and will be removed in a future version.\n",
      "Instructions for updating:\n",
      "Please use `rate` instead of `keep_prob`. Rate should be set to `rate = 1 - keep_prob`.\n",
      "W0902 15:56:30.400102 140115145213824 deprecation_wrapper.py:119] From /usr/local/lib/python3.6/dist-packages/keras/backend/tensorflow_backend.py:4267: The name tf.nn.max_pool is deprecated. Please use tf.nn.max_pool2d instead.\n",
      "\n",
      "W0902 15:56:30.552721 140115145213824 deprecation_wrapper.py:119] From /usr/local/lib/python3.6/dist-packages/keras/optimizers.py:793: The name tf.train.Optimizer is deprecated. Please use tf.compat.v1.train.Optimizer instead.\n",
      "\n"
     ]
    }
   ],
   "source": [
    "MODEL_9 = Sequential()\n",
    "MODEL_9.add(Conv2D(128,kernel_size=(1,1),activation='relu',input_shape=(28,28,1)))\n",
    "MODEL_9.add(BatchNormalization(axis=-1))\n",
    "MODEL_9.add(Dropout(0.4))\n",
    "MODEL_9.add(MaxPooling2D(pool_size=(2, 2)))\n",
    "\n",
    "MODEL_9.add(Conv2D(256,kernel_size=(1,1),activation='relu'))\n",
    "MODEL_9.add(BatchNormalization(axis=-1))\n",
    "MODEL_9.add(Dropout(0.4))\n",
    "MODEL_9.add(MaxPooling2D(pool_size=(2, 2)))\n",
    "\n",
    "\n",
    "\n",
    "MODEL_9.add(Flatten())\n",
    "MODEL_9.add(Dense(60,activation = 'relu'))\n",
    "MODEL_9.add(Dense(30,activation = 'relu'))\n",
    "MODEL_9.add(Dense(10,activation = 'softmax'))\n",
    "MODEL_9.compile(loss='categorical_crossentropy',optimizer=keras.optimizers.Adam(),metrics=['accuracy'])"
   ]
  },
  {
   "cell_type": "code",
   "execution_count": 10,
   "metadata": {
    "colab": {
     "base_uri": "https://localhost:8080/",
     "height": 523
    },
    "colab_type": "code",
    "id": "6y3n15cZlGmN",
    "outputId": "9e00d0dc-b858-4d29-a15c-a28d10bd71af"
   },
   "outputs": [
    {
     "name": "stderr",
     "output_type": "stream",
     "text": [
      "W0902 15:56:36.269253 140115145213824 deprecation.py:323] From /usr/local/lib/python3.6/dist-packages/tensorflow/python/ops/math_grad.py:1250: add_dispatch_support.<locals>.wrapper (from tensorflow.python.ops.array_ops) is deprecated and will be removed in a future version.\n",
      "Instructions for updating:\n",
      "Use tf.where in 2.0, which has the same broadcast rule as np.where\n"
     ]
    },
    {
     "name": "stdout",
     "output_type": "stream",
     "text": [
      "Train on 60000 samples, validate on 10000 samples\n",
      "Epoch 1/12\n",
      "60000/60000 [==============================] - 529s 9ms/step - loss: 0.7268 - acc: 0.7834 - val_loss: 1.7188 - val_acc: 0.5333\n",
      "Epoch 2/12\n",
      "60000/60000 [==============================] - 533s 9ms/step - loss: 0.3982 - acc: 0.8770 - val_loss: 2.1108 - val_acc: 0.4681\n",
      "Epoch 3/12\n",
      "60000/60000 [==============================] - 529s 9ms/step - loss: 0.3496 - acc: 0.8918 - val_loss: 2.0650 - val_acc: 0.5157\n",
      "Epoch 4/12\n",
      "60000/60000 [==============================] - 533s 9ms/step - loss: 0.3180 - acc: 0.9008 - val_loss: 6.4830 - val_acc: 0.2923\n",
      "Epoch 5/12\n",
      "60000/60000 [==============================] - 536s 9ms/step - loss: 0.2942 - acc: 0.9083 - val_loss: 7.1578 - val_acc: 0.2687\n",
      "Epoch 6/12\n",
      "60000/60000 [==============================] - 535s 9ms/step - loss: 0.2804 - acc: 0.9122 - val_loss: 6.9064 - val_acc: 0.2480\n",
      "Epoch 7/12\n",
      "60000/60000 [==============================] - 530s 9ms/step - loss: 0.2732 - acc: 0.9142 - val_loss: 8.3281 - val_acc: 0.2280\n",
      "Epoch 8/12\n",
      "60000/60000 [==============================] - 531s 9ms/step - loss: 0.2576 - acc: 0.9180 - val_loss: 8.2824 - val_acc: 0.2294\n",
      "Epoch 9/12\n",
      "60000/60000 [==============================] - 534s 9ms/step - loss: 0.2562 - acc: 0.9194 - val_loss: 9.1055 - val_acc: 0.2168\n",
      "Epoch 10/12\n",
      "60000/60000 [==============================] - 523s 9ms/step - loss: 0.2416 - acc: 0.9234 - val_loss: 10.0210 - val_acc: 0.1667\n",
      "Epoch 11/12\n",
      "60000/60000 [==============================] - 525s 9ms/step - loss: 0.2383 - acc: 0.9234 - val_loss: 8.8276 - val_acc: 0.2222\n",
      "Epoch 12/12\n",
      "60000/60000 [==============================] - 530s 9ms/step - loss: 0.2308 - acc: 0.9270 - val_loss: 10.4276 - val_acc: 0.1527\n"
     ]
    }
   ],
   "source": [
    "HISTORY_9=MODEL_9.fit(X_TRAIN,Y_TRAIN,batch_size= 128,epochs=12,verbose=1,validation_data=(X_TEST,Y_TEST))"
   ]
  },
  {
   "cell_type": "code",
   "execution_count": 13,
   "metadata": {
    "colab": {
     "base_uri": "https://localhost:8080/",
     "height": 317
    },
    "colab_type": "code",
    "id": "JEtLA_PDJw5G",
    "outputId": "be944040-e2a6-4480-fe1c-1490b2aba90f"
   },
   "outputs": [
    {
     "name": "stdout",
     "output_type": "stream",
     "text": [
      "Test loss: 10.427624143981934\n",
      "Test accuracy: 0.1527\n"
     ]
    },
    {
     "data": {
      "image/png": "[encoded data removed]",
      "text/plain": [
       "<Figure size 432x288 with 1 Axes>"
      ]
     },
     "metadata": {
      "tags": []
     },
     "output_type": "display_data"
    }
   ],
   "source": [
    "score = MODEL_9.evaluate(X_TEST, Y_TEST, verbose=0)\n",
    "#TEST_LOSS.apscore = MODEL_9.evaluate(X_TEST, Y_TEST, verbose=0)\n",
    "#TEST_LOSS.append(score[0])\n",
    "print('Test loss:', score[0])\n",
    "print('Test accuracy:', score[1])\n",
    "\n",
    "import matplotlib.pyplot as plt\n",
    "TRAIN_LOSS = HISTORY_9.history['loss']\n",
    "VAL_LOSS = HISTORY_9.history['val_loss']\n",
    "PLOT(VAL_LOSS,TRAIN_LOSS)\n",
    "\n",
    "\n",
    "\n",
    "\n"
   ]
  },
  {
   "cell_type": "markdown",
   "metadata": {},
   "source": [
    "BN = BatchNormalization\n",
    "\n",
    "Do = Dropout\n",
    "\n",
    "MP = maxpooling"
   ]
  },
  {
   "cell_type": "code",
   "execution_count": 5,
   "metadata": {
    "colab": {
     "base_uri": "https://localhost:8080/",
     "height": 297
    },
    "colab_type": "code",
    "id": "TpACh8tYlPtu",
    "outputId": "ac66db8d-e94d-4977-d20b-9e2fec0efa43"
   },
   "outputs": [
    {
     "name": "stdout",
     "output_type": "stream",
     "text": [
      "                                        CONCLUSION\n",
      "====================================================================================================\n",
      "+-------------------------------+-----------------------------------+-------------+------------+-----------+-----------+\n",
      "|             Model             |         Number of Filters         | Kernel_Size | Activation | Optimizer | Test Loss |\n",
      "+-------------------------------+-----------------------------------+-------------+------------+-----------+-----------+\n",
      "|               1               |       Filter1:32,Filter2:64       |     3X3     |    Relu    |    Adam   |   0.065   |\n",
      "|               2               | Filter1:32,Filter2:64,Filter3:128 |     3X3     |    Relu    |    Adam   |   0.055   |\n",
      "|               3               |       Filter1:32,Filter2:64       |     5X5     |  Sigmoid   |  Adadelta |   0.052   |\n",
      "|         4(MP+DO(0.3))         |       Filter1:32,Filter2:64       |     5X5     |  Sigmoid   |  Adadelta |   0.039   |\n",
      "|        5(BN+DO+MP(2,2))       |           Same as Above           |     5X5     |  Sigmoid   |  Adadelta |   0.201   |\n",
      "|        6(BN+DO+MP(2,2))       |  Filter1:20,Filter2:40,Filter3:60 |     1X1     |   Relu     |   Adamax  |   3.455   |\n",
      "| 7(BN+DO+MP(4,4))+2MLP+Sigmoid |       Filter1:20,Filter2:30       |     3X3     |   tanh     |    Adam   |   0.457   |\n",
      "|   8(BN+DO+MP(4,4))+2MLP+relu  |       Filter1:64,Filter2:128      |     3X3     |   Relu     |    Adam   |   0.149   |\n",
      "|   9(BN+DO+MP(2,2))+2MLP+relu  |      Filter1:128,Filter2:256      |     1X1     |   Relu     |    Adam   |   10.42   |\n",
      "+-------------------------------+-----------------------------------+-------------+------------+-----------+-----------+\n"
     ]
    }
   ],
   "source": [
    "from prettytable import PrettyTable\n",
    "X=PrettyTable()\n",
    "print(\" \"*40+\"CONCLUSION\")\n",
    "print(\"=\"*100)\n",
    "X.field_names = [\"Model\",'Number of Filters','Kernel_Size','Activation','Optimizer',\"Test Loss\"]\n",
    "X.add_row([\"1\",'Filter1:32,Filter2:64',\"3X3\",\"Relu\",'Adam','0.065'])\n",
    "X.add_row([\"2\",'Filter1:32,Filter2:64,Filter3:128',\"3X3\",\"Relu\",'Adam','0.055'])\n",
    "X.add_row([\"3\",'Filter1:32,Filter2:64',\"5X5\",\"Sigmoid \",'Adadelta','0.052'])\n",
    "X.add_row([\"4(MP+DO(0.3))\",'Filter1:32,Filter2:64',\"5X5\",\"Sigmoid\",'Adadelta','0.039'])\n",
    "X.add_row([\"5(BN+DO+MP(2,2))\",'Same as Above',\"5X5\",\"Sigmoid \",'Adadelta','0.201'])\n",
    "X.add_row([\"6(BN+DO+MP(2,2))\",'Filter1:20,Filter2:40,Filter3:60',\"1X1\",\"Relu \",'Adamax','3.455'])\n",
    "X.add_row([\"7(BN+DO+MP(4,4))+2MLP+Sigmoid\",'Filter1:20,Filter2:30',\"3X3\",\"tanh \",'Adam','0.457'])\n",
    "X.add_row([\"8(BN+DO+MP(4,4))+2MLP+relu\",'Filter1:64,Filter2:128',\"3X3\",\"Relu \",'Adam','0.149'])\n",
    "X.add_row([\"9(BN+DO+MP(2,2))+2MLP+relu\",'Filter1:128,Filter2:256',\"1X1\",\"Relu \",'Adam','10.42'])\n",
    "\n",
    "\n",
    "\n",
    "\n",
    "print(X)"
   ]
  },
  {
   "cell_type": "markdown",
   "metadata": {
    "colab_type": "text",
    "id": "_YEUHIk6mG7m"
   },
   "source": [
    "# Conclusion:\n",
    "\n",
    "General Thumb rule to check perfomance of model\n",
    "\n",
    " * If Train loss is too high than validation loss we say that Model is Underfit.\n",
    "\n",
    "*   If Train Loss is too low than validation loss then Model is Overfit.\n",
    "\n",
    "*   What we want in Our Model is that both this loss should be low and approximatly close to each other."
   ]
  },
  {
   "cell_type": "markdown",
   "metadata": {
    "colab_type": "text",
    "id": "qmkyxYILDsOk"
   },
   "source": [
    "\n",
    "\n",
    "\n",
    "---\n",
    "\n",
    "\n",
    "1.   In very first two model I tried to expriment with number of filters,keeping acyivation,optimizers and kernel size same.\n",
    "2.   In first model,in first layer our model learn 32 fiter and in second layer it learned 64 filter.\n",
    "3. In secon model, it has learn three layer of model,in first layer our model learn 32 filter in secon 64 filter and in third layer 128 filters.\n",
    "4. What I observe from first two model is if increase number of filter keeping kernel size ,activation function,optimizers same, our model test loss will decrease.(It has decrease from 0.65 to 0.55)\n",
    "\n",
    "\n",
    "---\n",
    "\n",
    "\n",
    "\n"
   ]
  },
  {
   "cell_type": "markdown",
   "metadata": {
    "colab_type": "text",
    "id": "CWSUNeMiE7pt"
   },
   "source": [
    "\n",
    "\n",
    "\n",
    "---\n",
    "\n",
    "\n",
    "1.   In my third model we learn same number of filter in both layer as we did in first model,but we change kernel size from (3X3) to (5X5) and used activation function as sigmoid and optimizer Adadelta.\n",
    "2.   By just changing kernel size and activation function and optimizers keeping number of filter same our model test loss decrease significantly as compared to first and second model.\n",
    "\n",
    "\n",
    "---\n",
    "\n",
    "\n"
   ]
  },
  {
   "cell_type": "markdown",
   "metadata": {
    "colab_type": "text",
    "id": "RkxNh04MF5fA"
   },
   "source": [
    "\n",
    "\n",
    "---\n",
    "\n",
    "\n",
    "\n",
    "*   In 4th model we keep all parameters same as previous,we just did maxpooling follwed by dropout(0.3)  and what I observe is test loss again decreases significantly from 0.052(in model 3) to 0.039.\n",
    "\n",
    "\n",
    "---\n",
    "\n",
    "\n",
    "\n"
   ]
  },
  {
   "cell_type": "markdown",
   "metadata": {
    "colab_type": "text",
    "id": "Dy6WbcqDGjVo"
   },
   "source": [
    "\n",
    "\n",
    "---\n",
    "\n",
    "\n",
    "\n",
    "*   Model 5 is exactly similar to model 4 except that I did BatchNormalization in this model,again test loss decreases.\n",
    "* Maxpooling reduce spatial dimension i.e our model has to learn now less parameters and doing dropout somewhat ensure that our model is not overfitting.\n",
    "\n",
    "\n"
   ]
  },
  {
   "cell_type": "markdown",
   "metadata": {
    "colab_type": "text",
    "id": "NmgH2bY4IPLx"
   },
   "source": [
    "\n",
    "\n",
    "---\n",
    "\n",
    "* Kernel Size we will use  in our model will affect perfomance of model a Lot,this is what I observe from Model6.\n",
    "* What I did in Model6 is I have use Relu activation and Adamax Optimizer,our model learned 3 layers of filter having size 20,40,60,we also did batchnormalization ,Maxpooling and dropout(to reduce overfitting,but we used here kernel size of (1X1).\n",
    "* Our Testloss is higher in this case as compared to all previous model.\n",
    "\n",
    "\n",
    "---\n",
    "\n"
   ]
  },
  {
   "cell_type": "markdown",
   "metadata": {
    "colab_type": "text",
    "id": "cEur6-2_JYoA"
   },
   "source": [
    "\n",
    "\n",
    "---\n",
    "\n",
    "\n",
    "\n",
    "*   In Model(7,8,9), I expriment with our MLP layer(after Flatten),in model 7 I have used two hidden layer of sigmoid activation and in model 8and 9 two hidden layer of relu activation,In all model we did BatchNormalization maxpooling and dropout used differnent number of kernel and learned diffnerent number of filter .\n",
    "* Like in model7,8 we used kernel size of (3X3) and in model 9 we used kernel size of (1X1) our model perfomance decrease because test loss when we used kernal size of 1X1 is very high(Validation loss is just increasing in that case)\n",
    "\n",
    "\n",
    "\n",
    "---\n",
    "\n",
    "\n",
    "\n",
    "\n"
   ]
  },
  {
   "cell_type": "code",
   "execution_count": 0,
   "metadata": {
    "colab": {},
    "colab_type": "code",
    "id": "cRfhIJpeE67m"
   },
   "outputs": [],
   "source": []
  },
  {
   "cell_type": "code",
   "execution_count": 0,
   "metadata": {
    "colab": {},
    "colab_type": "code",
    "id": "TdsO_OAImO6B"
   },
   "outputs": [],
   "source": []
  }
 ],
 "metadata": {
  "colab": {
   "collapsed_sections": [],
   "name": "CONVnets_MNIST.ipynb",
   "provenance": [],
   "version": "0.3.2"
  },
  "kernelspec": {
   "display_name": "Python 3",
   "language": "python",
   "name": "python3"
  },
  "language_info": {
   "codemirror_mode": {
    "name": "ipython",
    "version": 3
   },
   "file_extension": ".py",
   "mimetype": "text/x-python",
   "name": "python",
   "nbconvert_exporter": "python",
   "pygments_lexer": "ipython3",
   "version": "3.6.5"
  }
 },
 "nbformat": 4,
 "nbformat_minor": 1
}
