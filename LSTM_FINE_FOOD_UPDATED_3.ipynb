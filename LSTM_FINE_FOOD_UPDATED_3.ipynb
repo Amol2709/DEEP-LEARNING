{
 "cells": [
  {
   "cell_type": "code",
   "execution_count": 1,
   "metadata": {
    "colab": {
     "base_uri": "https://localhost:8080/",
     "height": 124
    },
    "colab_type": "code",
    "id": "8PO28jUq27Tk",
    "outputId": "523b6c57-877e-4604-cb5c-fb1f235d5c6e"
   },
   "outputs": [
    {
     "name": "stdout",
     "output_type": "stream",
     "text": [
      "Go to this URL in a browser: https://accounts.google.com/o/oauth2/auth?client_id=947318989803-6bn6qk8qdgf4n4g3pfee6491hc0brc4i.apps.googleusercontent.com&redirect_uri=urn%3Aietf%3Awg%3Aoauth%3A2.0%3Aoob&scope=email%20https%3A%2F%2Fwww.googleapis.com%2Fauth%2Fdocs.test%20https%3A%2F%2Fwww.googleapis.com%2Fauth%2Fdrive%20https%3A%2F%2Fwww.googleapis.com%2Fauth%2Fdrive.photos.readonly%20https%3A%2F%2Fwww.googleapis.com%2Fauth%2Fpeopleapi.readonly&response_type=code\n",
      "\n",
      "Enter your authorization code:\n",
      "··········\n",
      "Mounted at /content/gdrive\n"
     ]
    }
   ],
   "source": [
    "from google.colab import drive\n",
    "drive.mount('/content/gdrive')"
   ]
  },
  {
   "cell_type": "code",
   "execution_count": 2,
   "metadata": {
    "colab": {
     "base_uri": "https://localhost:8080/",
     "height": 596
    },
    "colab_type": "code",
    "id": "VKn0D_Hj5SyK",
    "outputId": "b302284f-62a1-477f-df18-f574ac16f6bb"
   },
   "outputs": [
    {
     "name": "stderr",
     "output_type": "stream",
     "text": [
      "Using TensorFlow backend.\n"
     ]
    },
    {
     "data": {
      "text/html": [
       "<div>\n",
       "<style scoped>\n",
       "    .dataframe tbody tr th:only-of-type {\n",
       "        vertical-align: middle;\n",
       "    }\n",
       "\n",
       "    .dataframe tbody tr th {\n",
       "        vertical-align: top;\n",
       "    }\n",
       "\n",
       "    .dataframe thead th {\n",
       "        text-align: right;\n",
       "    }\n",
       "</style>\n",
       "<table border=\"1\" class=\"dataframe\">\n",
       "  <thead>\n",
       "    <tr style=\"text-align: right;\">\n",
       "      <th></th>\n",
       "      <th>Id</th>\n",
       "      <th>ProductId</th>\n",
       "      <th>UserId</th>\n",
       "      <th>ProfileName</th>\n",
       "      <th>HelpfulnessNumerator</th>\n",
       "      <th>HelpfulnessDenominator</th>\n",
       "      <th>Score</th>\n",
       "      <th>Time</th>\n",
       "      <th>Summary</th>\n",
       "      <th>Text</th>\n",
       "    </tr>\n",
       "  </thead>\n",
       "  <tbody>\n",
       "    <tr>\n",
       "      <th>0</th>\n",
       "      <td>1</td>\n",
       "      <td>B001E4KFG0</td>\n",
       "      <td>A3SGXH7AUHU8GW</td>\n",
       "      <td>delmartian</td>\n",
       "      <td>1</td>\n",
       "      <td>1</td>\n",
       "      <td>5</td>\n",
       "      <td>1303862400</td>\n",
       "      <td>Good Quality Dog Food</td>\n",
       "      <td>I have bought several of the Vitality canned d...</td>\n",
       "    </tr>\n",
       "    <tr>\n",
       "      <th>1</th>\n",
       "      <td>2</td>\n",
       "      <td>B00813GRG4</td>\n",
       "      <td>A1D87F6ZCVE5NK</td>\n",
       "      <td>dll pa</td>\n",
       "      <td>0</td>\n",
       "      <td>0</td>\n",
       "      <td>1</td>\n",
       "      <td>1346976000</td>\n",
       "      <td>Not as Advertised</td>\n",
       "      <td>Product arrived labeled as Jumbo Salted Peanut...</td>\n",
       "    </tr>\n",
       "    <tr>\n",
       "      <th>2</th>\n",
       "      <td>3</td>\n",
       "      <td>B000LQOCH0</td>\n",
       "      <td>ABXLMWJIXXAIN</td>\n",
       "      <td>Natalia Corres \"Natalia Corres\"</td>\n",
       "      <td>1</td>\n",
       "      <td>1</td>\n",
       "      <td>4</td>\n",
       "      <td>1219017600</td>\n",
       "      <td>\"Delight\" says it all</td>\n",
       "      <td>This is a confection that has been around a fe...</td>\n",
       "    </tr>\n",
       "    <tr>\n",
       "      <th>3</th>\n",
       "      <td>4</td>\n",
       "      <td>B000UA0QIQ</td>\n",
       "      <td>A395BORC6FGVXV</td>\n",
       "      <td>Karl</td>\n",
       "      <td>3</td>\n",
       "      <td>3</td>\n",
       "      <td>2</td>\n",
       "      <td>1307923200</td>\n",
       "      <td>Cough Medicine</td>\n",
       "      <td>If you are looking for the secret ingredient i...</td>\n",
       "    </tr>\n",
       "    <tr>\n",
       "      <th>4</th>\n",
       "      <td>5</td>\n",
       "      <td>B006K2ZZ7K</td>\n",
       "      <td>A1UQRSCLF8GW1T</td>\n",
       "      <td>Michael D. Bigham \"M. Wassir\"</td>\n",
       "      <td>0</td>\n",
       "      <td>0</td>\n",
       "      <td>5</td>\n",
       "      <td>1350777600</td>\n",
       "      <td>Great taffy</td>\n",
       "      <td>Great taffy at a great price.  There was a wid...</td>\n",
       "    </tr>\n",
       "  </tbody>\n",
       "</table>\n",
       "</div>"
      ],
      "text/plain": [
       "   Id  ...                                               Text\n",
       "0   1  ...  I have bought several of the Vitality canned d...\n",
       "1   2  ...  Product arrived labeled as Jumbo Salted Peanut...\n",
       "2   3  ...  This is a confection that has been around a fe...\n",
       "3   4  ...  If you are looking for the secret ingredient i...\n",
       "4   5  ...  Great taffy at a great price.  There was a wid...\n",
       "\n",
       "[5 rows x 10 columns]"
      ]
     },
     "execution_count": 2,
     "metadata": {
      "tags": []
     },
     "output_type": "execute_result"
    }
   ],
   "source": [
    "import pandas as pd\n",
    "from keras.models import Sequential\n",
    "from keras.layers.embeddings import Embedding\n",
    "from keras.layers import LSTM\n",
    "from keras.layers import Dense\n",
    "\n",
    "DATA =  pd.read_csv('gdrive/My Drive/FINE_FOOD/Reviews.csv')\n",
    "DATA.head()"
   ]
  },
  {
   "cell_type": "code",
   "execution_count": 3,
   "metadata": {
    "colab": {
     "base_uri": "https://localhost:8080/",
     "height": 578
    },
    "colab_type": "code",
    "id": "ZjgJ7SHlN7bl",
    "outputId": "b4e9275a-2d08-4965-881b-2d3c1807178f"
   },
   "outputs": [
    {
     "data": {
      "text/html": [
       "<div>\n",
       "<style scoped>\n",
       "    .dataframe tbody tr th:only-of-type {\n",
       "        vertical-align: middle;\n",
       "    }\n",
       "\n",
       "    .dataframe tbody tr th {\n",
       "        vertical-align: top;\n",
       "    }\n",
       "\n",
       "    .dataframe thead th {\n",
       "        text-align: right;\n",
       "    }\n",
       "</style>\n",
       "<table border=\"1\" class=\"dataframe\">\n",
       "  <thead>\n",
       "    <tr style=\"text-align: right;\">\n",
       "      <th></th>\n",
       "      <th>Id</th>\n",
       "      <th>ProductId</th>\n",
       "      <th>UserId</th>\n",
       "      <th>ProfileName</th>\n",
       "      <th>HelpfulnessNumerator</th>\n",
       "      <th>HelpfulnessDenominator</th>\n",
       "      <th>Score</th>\n",
       "      <th>Time</th>\n",
       "      <th>Summary</th>\n",
       "      <th>Text</th>\n",
       "    </tr>\n",
       "  </thead>\n",
       "  <tbody>\n",
       "    <tr>\n",
       "      <th>0</th>\n",
       "      <td>1</td>\n",
       "      <td>B001E4KFG0</td>\n",
       "      <td>A3SGXH7AUHU8GW</td>\n",
       "      <td>delmartian</td>\n",
       "      <td>1</td>\n",
       "      <td>1</td>\n",
       "      <td>1</td>\n",
       "      <td>1303862400</td>\n",
       "      <td>Good Quality Dog Food</td>\n",
       "      <td>I have bought several of the Vitality canned d...</td>\n",
       "    </tr>\n",
       "    <tr>\n",
       "      <th>1</th>\n",
       "      <td>2</td>\n",
       "      <td>B00813GRG4</td>\n",
       "      <td>A1D87F6ZCVE5NK</td>\n",
       "      <td>dll pa</td>\n",
       "      <td>0</td>\n",
       "      <td>0</td>\n",
       "      <td>0</td>\n",
       "      <td>1346976000</td>\n",
       "      <td>Not as Advertised</td>\n",
       "      <td>Product arrived labeled as Jumbo Salted Peanut...</td>\n",
       "    </tr>\n",
       "    <tr>\n",
       "      <th>2</th>\n",
       "      <td>3</td>\n",
       "      <td>B000LQOCH0</td>\n",
       "      <td>ABXLMWJIXXAIN</td>\n",
       "      <td>Natalia Corres \"Natalia Corres\"</td>\n",
       "      <td>1</td>\n",
       "      <td>1</td>\n",
       "      <td>1</td>\n",
       "      <td>1219017600</td>\n",
       "      <td>\"Delight\" says it all</td>\n",
       "      <td>This is a confection that has been around a fe...</td>\n",
       "    </tr>\n",
       "    <tr>\n",
       "      <th>3</th>\n",
       "      <td>4</td>\n",
       "      <td>B000UA0QIQ</td>\n",
       "      <td>A395BORC6FGVXV</td>\n",
       "      <td>Karl</td>\n",
       "      <td>3</td>\n",
       "      <td>3</td>\n",
       "      <td>0</td>\n",
       "      <td>1307923200</td>\n",
       "      <td>Cough Medicine</td>\n",
       "      <td>If you are looking for the secret ingredient i...</td>\n",
       "    </tr>\n",
       "    <tr>\n",
       "      <th>4</th>\n",
       "      <td>5</td>\n",
       "      <td>B006K2ZZ7K</td>\n",
       "      <td>A1UQRSCLF8GW1T</td>\n",
       "      <td>Michael D. Bigham \"M. Wassir\"</td>\n",
       "      <td>0</td>\n",
       "      <td>0</td>\n",
       "      <td>1</td>\n",
       "      <td>1350777600</td>\n",
       "      <td>Great taffy</td>\n",
       "      <td>Great taffy at a great price.  There was a wid...</td>\n",
       "    </tr>\n",
       "  </tbody>\n",
       "</table>\n",
       "</div>"
      ],
      "text/plain": [
       "   Id  ...                                               Text\n",
       "0   1  ...  I have bought several of the Vitality canned d...\n",
       "1   2  ...  Product arrived labeled as Jumbo Salted Peanut...\n",
       "2   3  ...  This is a confection that has been around a fe...\n",
       "3   4  ...  If you are looking for the secret ingredient i...\n",
       "4   5  ...  Great taffy at a great price.  There was a wid...\n",
       "\n",
       "[5 rows x 10 columns]"
      ]
     },
     "execution_count": 3,
     "metadata": {
      "tags": []
     },
     "output_type": "execute_result"
    }
   ],
   "source": [
    "def PARTION(score):\n",
    "  if score<3:\n",
    "    return 0\n",
    "  return 1\n",
    " \n",
    "ACTUAL_SCORE = DATA['Score']\n",
    "NEW_SCORE = ACTUAL_SCORE.map(PARTION)\n",
    "DATA['Score']=NEW_SCORE\n",
    "DATA.head()\n"
   ]
  },
  {
   "cell_type": "code",
   "execution_count": 0,
   "metadata": {
    "colab": {},
    "colab_type": "code",
    "id": "xpOzV2u65ygN"
   },
   "outputs": [],
   "source": [
    "TEXT = DATA['Text'].values"
   ]
  },
  {
   "cell_type": "code",
   "execution_count": 0,
   "metadata": {
    "colab": {},
    "colab_type": "code",
    "id": "Xh78ntRJMiWK"
   },
   "outputs": [],
   "source": [
    "\n",
    "LABEL= DATA['Score'].values"
   ]
  },
  {
   "cell_type": "code",
   "execution_count": 0,
   "metadata": {
    "colab": {},
    "colab_type": "code",
    "id": "fp0Eb1JWMviD"
   },
   "outputs": [],
   "source": [
    "\n",
    "from sklearn.model_selection import train_test_split\n",
    "X_TRAIN , X_TEST , Y_TRAIN , Y_TEST = train_test_split(TEXT[0:50000],LABEL[0:50000],test_size = 0.3,random_state = 0,shuffle = False)"
   ]
  },
  {
   "cell_type": "code",
   "execution_count": 7,
   "metadata": {
    "colab": {
     "base_uri": "https://localhost:8080/",
     "height": 52
    },
    "colab_type": "code",
    "id": "LrS94ID3ATaW",
    "outputId": "eed37055-ef4a-40e0-e0b3-4dd7d408bbf3"
   },
   "outputs": [
    {
     "name": "stdout",
     "output_type": "stream",
     "text": [
      "Shape of TRAIN DATA: (35000,)\n",
      "Shape of TEST DATA: (15000,)\n"
     ]
    }
   ],
   "source": [
    "print(\"Shape of TRAIN DATA: {}\".format(X_TRAIN.shape))\n",
    "print(\"Shape of TEST DATA: {}\".format(X_TEST.shape))"
   ]
  },
  {
   "cell_type": "code",
   "execution_count": 0,
   "metadata": {
    "colab": {
     "base_uri": "https://localhost:8080/",
     "height": 54
    },
    "colab_type": "code",
    "id": "KhdjaApWCaCo",
    "outputId": "3c963900-4eea-4913-a81a-32201ca04e9f"
   },
   "outputs": [
    {
     "data": {
      "text/plain": [
       "'I have bought several of the Vitality canned dog food products and have found them all to be of good quality. The product looks more like a stew than a processed meat and it smells better. My Labrador is finicky and she appreciates this product better than  most.'"
      ]
     },
     "execution_count": 59,
     "metadata": {
      "tags": []
     },
     "output_type": "execute_result"
    }
   ],
   "source": [
    "X_TRAIN[0]"
   ]
  },
  {
   "cell_type": "code",
   "execution_count": 0,
   "metadata": {
    "colab": {},
    "colab_type": "code",
    "id": "KIBOdh5wbUix"
   },
   "outputs": [],
   "source": [
    "from nltk import FreqDist\n",
    "WORD_DISTRIBUTION_TRAIN = FreqDist()\n",
    "\n",
    "for text in X_TRAIN:\n",
    "    WORD_DISTRIBUTION_TRAIN.update(text.split())\n",
    "\n",
    "WORD_DISTRIBUTION_TRAIN= dict(WORD_DISTRIBUTION_TRAIN)\n",
    "\n",
    "import operator\n",
    "WORD_DISTRIBUTION_TRAIN = sorted(WORD_DISTRIBUTION_TRAIN.items(), key=operator.itemgetter(1),reverse = True)\n",
    "\n",
    "RANK_DICT_TRAIN = {}\n",
    "RANK = 1\n",
    "for num in range(len(WORD_DISTRIBUTION_TRAIN)):\n",
    "    i = WORD_DISTRIBUTION_TRAIN[num][0]\n",
    "    RANK_DICT_TRAIN[i] = RANK\n",
    "    RANK+=1\n",
    "\n",
    "VECTOR_TRAIN= []\n",
    "for sentence in X_TRAIN:\n",
    "    rows = []\n",
    "    for word in sentence.split():\n",
    "      if RANK_DICT_TRAIN[word]<=5000 :\n",
    "        rows.append(RANK_DICT_TRAIN[word])\n",
    "    VECTOR_TRAIN.append(rows)\n",
    "    \n",
    "VECTOR_TEST= []\n",
    "for sentence in X_TEST:\n",
    "    rows = []\n",
    "    for word in sentence.split():\n",
    "      A=word in  RANK_DICT_TRAIN\n",
    "      if A == True:\n",
    "        if RANK_DICT_TRAIN[word]<=5000 :\n",
    "          rows.append(RANK_DICT_TRAIN[word])\n",
    "    VECTOR_TEST.append(rows)\n",
    "        "
   ]
  },
  {
   "cell_type": "code",
   "execution_count": 10,
   "metadata": {
    "colab": {
     "base_uri": "https://localhost:8080/",
     "height": 656
    },
    "colab_type": "code",
    "id": "EIaQqxiqPygy",
    "outputId": "1b50df98-2844-469c-dc9f-eec5b3eb2ccd"
   },
   "outputs": [
    {
     "name": "stdout",
     "output_type": "stream",
     "text": [
      "(35000, 500)\n",
      "[   0    0    0    0    0    0    0    0    0    0    0    0    0    0\n",
      "    0    0    0    0    0    0    0    0    0    0    0    0    0    0\n",
      "    0    0    0    0    0    0    0    0    0    0    0    0    0    0\n",
      "    0    0    0    0    0    0    0    0    0    0    0    0    0    0\n",
      "    0    0    0    0    0    0    0    0    0    0    0    0    0    0\n",
      "    0    0    0    0    0    0    0    0    0    0    0    0    0    0\n",
      "    0    0    0    0    0    0    0    0    0    0    0    0    0    0\n",
      "    0    0    0    0    0    0    0    0    0    0    0    0    0    0\n",
      "    0    0    0    0    0    0    0    0    0    0    0    0    0    0\n",
      "    0    0    0    0    0    0    0    0    0    0    0    0    0    0\n",
      "    0    0    0    0    0    0    0    0    0    0    0    0    0    0\n",
      "    0    0    0    0    0    0    0    0    0    0    0    0    0    0\n",
      "    0    0    0    0    0    0    0    0    0    0    0    0    0    0\n",
      "    0    0    0    0    0    0    0    0    0    0    0    0    0    0\n",
      "    0    0    0    0    0    0    0    0    0    0    0    0    0    0\n",
      "    0    0    0    0    0    0    0    0    0    0    0    0    0    0\n",
      "    0    0    0    0    0    0    0    0    0    0    0    0    0    0\n",
      "    0    0    0    0    0    0    0    0    0    0    0    0    0    0\n",
      "    0    0    0    0    0    0    0    0    0    0    0    0    0    0\n",
      "    0    0    0    0    0    0    0    0    0    0    0    0    0    0\n",
      "    0    0    0    0    0    0    0    0    0    0    0    0    0    0\n",
      "    0    0    0    0    0    0    0    0    0    0    0    0    0    0\n",
      "    0    0    0    0    0    0    0    0    0    0    0    0    0    0\n",
      "    0    0    0    0    0    0    0    0    0    0    0    0    0    0\n",
      "    0    0    0    0    0    0    0    0    0    0    0    0    0    0\n",
      "    0    0    0    0    0    0    0    0    0    0    0    0    0    0\n",
      "    0    0    0    0    0    0    0    0    0    0    0    0    0    0\n",
      "    0    0    0    0    0    0    0    0    0    0    0    0    0    0\n",
      "    0    0    0    0    0    0    0    0    0    0    0    0    0    0\n",
      "    0    0    0    0    0    0    0    0    0    0    0    0    0    0\n",
      "    0    0    0    0    0    0    0    0    0    0    0    0    0    0\n",
      "    0    0    0    0    0    0    0    0    0    0    0    0    0    0\n",
      "    0    0    0    0    0    0    0    0    0    0    0    0    0    0\n",
      "    0    0    0    0    0    0    0    0    0    0    0    0    0    0\n",
      " 1959  381 2608   23 1604   72  230  187 1258  236  196   52   11   18\n",
      "   64   29   52    1 2573 3942    5    1   58   23]\n"
     ]
    }
   ],
   "source": [
    "\n",
    "from keras.preprocessing import sequence\n",
    "max_review_length = 500\n",
    "X_TRAIN = sequence.pad_sequences(VECTOR_TRAIN, maxlen=max_review_length)\n",
    "X_TEST = sequence.pad_sequences(VECTOR_TEST, maxlen=max_review_length)\n",
    "\n",
    "print(X_TRAIN.shape)\n",
    "print(X_TRAIN[1])"
   ]
  },
  {
   "cell_type": "code",
   "execution_count": 11,
   "metadata": {
    "colab": {
     "base_uri": "https://localhost:8080/",
     "height": 52
    },
    "colab_type": "code",
    "id": "1PxdZmEZFQjo",
    "outputId": "5eb9899d-b915-4d4a-e80f-25bf24f11940"
   },
   "outputs": [
    {
     "name": "stdout",
     "output_type": "stream",
     "text": [
      "Shape of TRAIN DATA: (35000, 500)\n",
      "Shape of TEST DATA: (15000, 500)\n"
     ]
    }
   ],
   "source": [
    "print(\"Shape of TRAIN DATA: {}\".format(X_TRAIN.shape))\n",
    "print(\"Shape of TEST DATA: {}\".format(X_TEST.shape))"
   ]
  },
  {
   "cell_type": "code",
   "execution_count": 0,
   "metadata": {
    "colab": {},
    "colab_type": "code",
    "id": "1YChMO2JQK1_"
   },
   "outputs": [],
   "source": [
    "TOP_WORDS = 5000\n",
    "EPOCH = 10\n",
    "BATCH_SIZE = 64"
   ]
  },
  {
   "cell_type": "code",
   "execution_count": 0,
   "metadata": {
    "colab": {
     "base_uri": "https://localhost:8080/",
     "height": 521
    },
    "colab_type": "code",
    "id": "5WvYwERhQZ1G",
    "outputId": "33c237ba-8c48-4e6e-bc93-6abee6aff2de"
   },
   "outputs": [
    {
     "name": "stdout",
     "output_type": "stream",
     "text": [
      "WARNING:tensorflow:From /usr/local/lib/python3.6/dist-packages/keras/backend/tensorflow_backend.py:66: The name tf.get_default_graph is deprecated. Please use tf.compat.v1.get_default_graph instead.\n",
      "\n",
      "WARNING:tensorflow:From /usr/local/lib/python3.6/dist-packages/keras/backend/tensorflow_backend.py:541: The name tf.placeholder is deprecated. Please use tf.compat.v1.placeholder instead.\n",
      "\n",
      "WARNING:tensorflow:From /usr/local/lib/python3.6/dist-packages/keras/backend/tensorflow_backend.py:4432: The name tf.random_uniform is deprecated. Please use tf.random.uniform instead.\n",
      "\n",
      "WARNING:tensorflow:From /usr/local/lib/python3.6/dist-packages/keras/optimizers.py:793: The name tf.train.Optimizer is deprecated. Please use tf.compat.v1.train.Optimizer instead.\n",
      "\n",
      "WARNING:tensorflow:From /usr/local/lib/python3.6/dist-packages/keras/backend/tensorflow_backend.py:3657: The name tf.log is deprecated. Please use tf.math.log instead.\n",
      "\n",
      "WARNING:tensorflow:From /usr/local/lib/python3.6/dist-packages/tensorflow_core/python/ops/nn_impl.py:183: where (from tensorflow.python.ops.array_ops) is deprecated and will be removed in a future version.\n",
      "Instructions for updating:\n",
      "Use tf.where in 2.0, which has the same broadcast rule as np.where\n",
      "Model: \"sequential_1\"\n",
      "_________________________________________________________________\n",
      "Layer (type)                 Output Shape              Param #   \n",
      "=================================================================\n",
      "embedding_1 (Embedding)      (None, 500, 32)           160032    \n",
      "_________________________________________________________________\n",
      "lstm_1 (LSTM)                (None, 100)               53200     \n",
      "_________________________________________________________________\n",
      "dense_1 (Dense)              (None, 1)                 101       \n",
      "=================================================================\n",
      "Total params: 213,333\n",
      "Trainable params: 213,333\n",
      "Non-trainable params: 0\n",
      "_________________________________________________________________\n",
      "None\n"
     ]
    }
   ],
   "source": [
    "\n",
    "\n",
    "embedding_vecor_length = 32\n",
    "model = Sequential()\n",
    "model.add(Embedding(TOP_WORDS+1, embedding_vecor_length, input_length=max_review_length))\n",
    "model.add(LSTM(100))\n",
    "model.add(Dense(1, activation='sigmoid'))\n",
    "model.compile(loss='binary_crossentropy', optimizer='adam', metrics=['accuracy'])\n",
    "print(model.summary())\n",
    "#Refer: https://datascience.stackexch"
   ]
  },
  {
   "cell_type": "code",
   "execution_count": 0,
   "metadata": {
    "colab": {
     "base_uri": "https://localhost:8080/",
     "height": 711
    },
    "colab_type": "code",
    "id": "311jYQVuQwHU",
    "outputId": "3eef23fd-1442-467f-9c3b-1e81742dde58"
   },
   "outputs": [
    {
     "name": "stderr",
     "output_type": "stream",
     "text": [
      "/usr/local/lib/python3.6/dist-packages/ipykernel_launcher.py:1: UserWarning: The `nb_epoch` argument in `fit` has been renamed `epochs`.\n",
      "  \"\"\"Entry point for launching an IPython kernel.\n"
     ]
    },
    {
     "name": "stdout",
     "output_type": "stream",
     "text": [
      "WARNING:tensorflow:From /usr/local/lib/python3.6/dist-packages/keras/backend/tensorflow_backend.py:1033: The name tf.assign_add is deprecated. Please use tf.compat.v1.assign_add instead.\n",
      "\n",
      "WARNING:tensorflow:From /usr/local/lib/python3.6/dist-packages/keras/backend/tensorflow_backend.py:1020: The name tf.assign is deprecated. Please use tf.compat.v1.assign instead.\n",
      "\n",
      "WARNING:tensorflow:From /usr/local/lib/python3.6/dist-packages/keras/backend/tensorflow_backend.py:3005: The name tf.Session is deprecated. Please use tf.compat.v1.Session instead.\n",
      "\n",
      "Train on 35000 samples, validate on 15000 samples\n",
      "Epoch 1/10\n",
      "WARNING:tensorflow:From /usr/local/lib/python3.6/dist-packages/keras/backend/tensorflow_backend.py:190: The name tf.get_default_session is deprecated. Please use tf.compat.v1.get_default_session instead.\n",
      "\n",
      "WARNING:tensorflow:From /usr/local/lib/python3.6/dist-packages/keras/backend/tensorflow_backend.py:197: The name tf.ConfigProto is deprecated. Please use tf.compat.v1.ConfigProto instead.\n",
      "\n",
      "WARNING:tensorflow:From /usr/local/lib/python3.6/dist-packages/keras/backend/tensorflow_backend.py:207: The name tf.global_variables is deprecated. Please use tf.compat.v1.global_variables instead.\n",
      "\n",
      "WARNING:tensorflow:From /usr/local/lib/python3.6/dist-packages/keras/backend/tensorflow_backend.py:216: The name tf.is_variable_initialized is deprecated. Please use tf.compat.v1.is_variable_initialized instead.\n",
      "\n",
      "WARNING:tensorflow:From /usr/local/lib/python3.6/dist-packages/keras/backend/tensorflow_backend.py:223: The name tf.variables_initializer is deprecated. Please use tf.compat.v1.variables_initializer instead.\n",
      "\n",
      "35000/35000 [==============================] - 591s 17ms/step - loss: 0.3252 - acc: 0.8742 - val_loss: 0.2757 - val_acc: 0.8893\n",
      "Epoch 2/10\n",
      "35000/35000 [==============================] - 590s 17ms/step - loss: 0.2195 - acc: 0.9128 - val_loss: 0.2590 - val_acc: 0.8952\n",
      "Epoch 3/10\n",
      "35000/35000 [==============================] - 606s 17ms/step - loss: 0.1949 - acc: 0.9249 - val_loss: 0.2635 - val_acc: 0.8929\n",
      "Epoch 4/10\n",
      "35000/35000 [==============================] - 618s 18ms/step - loss: 0.1748 - acc: 0.9329 - val_loss: 0.3279 - val_acc: 0.8829\n",
      "Epoch 5/10\n",
      "35000/35000 [==============================] - 633s 18ms/step - loss: 0.1531 - acc: 0.9420 - val_loss: 0.2947 - val_acc: 0.8887\n",
      "Epoch 6/10\n",
      "35000/35000 [==============================] - 619s 18ms/step - loss: 0.1360 - acc: 0.9486 - val_loss: 0.3443 - val_acc: 0.8911\n",
      "Epoch 7/10\n",
      "35000/35000 [==============================] - 630s 18ms/step - loss: 0.1777 - acc: 0.9312 - val_loss: 0.2968 - val_acc: 0.8759\n",
      "Epoch 8/10\n",
      "35000/35000 [==============================] - 621s 18ms/step - loss: 0.1793 - acc: 0.9297 - val_loss: 0.3039 - val_acc: 0.8888\n",
      "Epoch 9/10\n",
      "35000/35000 [==============================] - 627s 18ms/step - loss: 0.1347 - acc: 0.9473 - val_loss: 0.3392 - val_acc: 0.8785\n",
      "Epoch 10/10\n",
      "35000/35000 [==============================] - 619s 18ms/step - loss: 0.1088 - acc: 0.9602 - val_loss: 0.3564 - val_acc: 0.8840\n"
     ]
    }
   ],
   "source": [
    "HISTORY=model.fit(X_TRAIN, Y_TRAIN, nb_epoch=10, batch_size=64, verbose=1,validation_data=(X_TEST,Y_TEST))\n",
    "# Final evaluation of the model\n",
    "#score = model.evaluate(X_TEST, Y_TEST, verbose=0)\n",
    "#print(\"Accuracy: %.2f%%\" % (scores[1]*100))"
   ]
  },
  {
   "cell_type": "code",
   "execution_count": 0,
   "metadata": {
    "colab": {
     "base_uri": "https://localhost:8080/",
     "height": 34
    },
    "colab_type": "code",
    "id": "CdLgrPk4Wtx_",
    "outputId": "6b8abc3d-c1fd-4092-fa73-d589a080cb31"
   },
   "outputs": [
    {
     "name": "stdout",
     "output_type": "stream",
     "text": [
      "Accuracy: 88.40%\n"
     ]
    }
   ],
   "source": [
    "score = model.evaluate(X_TEST, Y_TEST, verbose=0)\n",
    "print(\"Accuracy: %.2f%%\" % (score[1]*100))"
   ]
  },
  {
   "cell_type": "code",
   "execution_count": 0,
   "metadata": {
    "colab": {
     "base_uri": "https://localhost:8080/",
     "height": 52
    },
    "colab_type": "code",
    "id": "6_V7Iy3fRVsr",
    "outputId": "ecfa9b48-441c-4ee6-e32f-3b3da461183b"
   },
   "outputs": [
    {
     "name": "stdout",
     "output_type": "stream",
     "text": [
      "Test score: 0.3564115280419588\n",
      "Test accuracy: 0.884\n"
     ]
    }
   ],
   "source": [
    "#score = model.evaluate(X_TEST, Y_TETS, verbose=0)\n",
    "#print(\"Accuracy: %.2f%%\" % (score[1]*100))\n",
    "print('Test score:', score[0]) \n",
    "print('Test accuracy:', score[1])"
   ]
  },
  {
   "cell_type": "code",
   "execution_count": 0,
   "metadata": {
    "colab": {
     "base_uri": "https://localhost:8080/",
     "height": 269
    },
    "colab_type": "code",
    "id": "jMhz5Hfbwj2G",
    "outputId": "4889a28e-7948-4527-cac4-3afaf58bcbec"
   },
   "outputs": [
    {
     "data": {
      "image/png": "[encoded data removed]",
      "text/plain": [
       "<Figure size 432x288 with 1 Axes>"
      ]
     },
     "metadata": {
      "tags": []
     },
     "output_type": "display_data"
    }
   ],
   "source": [
    "import matplotlib.pyplot as PLT\n",
    "X = list(range(1,EPOCH +1))\n",
    "TEST_LOSS = HISTORY.history['val_loss']\n",
    "TRAIN_LOSS = HISTORY.history['loss']\n",
    "PLT.plot(X,TEST_LOSS, 'b', label=\"TEST Loss\")\n",
    "PLT.plot(X, TRAIN_LOSS, 'r', label=\"Train Loss\")\n",
    "PLT.legend()\n",
    "PLT.grid()\n"
   ]
  },
  {
   "cell_type": "code",
   "execution_count": 0,
   "metadata": {
    "colab": {},
    "colab_type": "code",
    "id": "OTSxLtlRfmZl"
   },
   "outputs": [],
   "source": []
  },
  {
   "cell_type": "markdown",
   "metadata": {
    "colab_type": "text",
    "id": "xRj3rsVoqgKe"
   },
   "source": [
    "MODEL_2"
   ]
  },
  {
   "cell_type": "code",
   "execution_count": 0,
   "metadata": {
    "colab": {
     "base_uri": "https://localhost:8080/",
     "height": 311
    },
    "colab_type": "code",
    "id": "AM3UxzDHqh5e",
    "outputId": "ad472775-6836-4786-a305-ae0e6f557fb1"
   },
   "outputs": [
    {
     "name": "stdout",
     "output_type": "stream",
     "text": [
      "Model: \"sequential_2\"\n",
      "_________________________________________________________________\n",
      "Layer (type)                 Output Shape              Param #   \n",
      "=================================================================\n",
      "embedding_2 (Embedding)      (None, 500, 32)           160032    \n",
      "_________________________________________________________________\n",
      "lstm_2 (LSTM)                (None, 500, 100)          53200     \n",
      "_________________________________________________________________\n",
      "lstm_3 (LSTM)                (None, 50)                30200     \n",
      "_________________________________________________________________\n",
      "dense_2 (Dense)              (None, 1)                 51        \n",
      "=================================================================\n",
      "Total params: 243,483\n",
      "Trainable params: 243,483\n",
      "Non-trainable params: 0\n",
      "_________________________________________________________________\n",
      "None\n"
     ]
    }
   ],
   "source": [
    "embedding_vecor_length = 32\n",
    "model_2 = Sequential()\n",
    "model_2.add(Embedding(TOP_WORDS+1, embedding_vecor_length, input_length=max_review_length))\n",
    "model_2.add(LSTM(100,return_sequences=True))\n",
    "model_2.add(LSTM(50))\n",
    "model_2.add(Dense(1, activation='sigmoid'))\n",
    "model_2.compile(loss='binary_crossentropy', optimizer='adam', metrics=['accuracy'])\n",
    "print(model_2.summary())"
   ]
  },
  {
   "cell_type": "code",
   "execution_count": 0,
   "metadata": {
    "colab": {
     "base_uri": "https://localhost:8080/",
     "height": 432
    },
    "colab_type": "code",
    "id": "VV79Hk47q0Sm",
    "outputId": "be1e1863-60e4-472e-dc67-79ae24c5a553"
   },
   "outputs": [
    {
     "name": "stderr",
     "output_type": "stream",
     "text": [
      "/usr/local/lib/python3.6/dist-packages/ipykernel_launcher.py:1: UserWarning: The `nb_epoch` argument in `fit` has been renamed `epochs`.\n",
      "  \"\"\"Entry point for launching an IPython kernel.\n"
     ]
    },
    {
     "name": "stdout",
     "output_type": "stream",
     "text": [
      "Train on 35000 samples, validate on 15000 samples\n",
      "Epoch 1/10\n",
      "35000/35000 [==============================] - 1242s 35ms/step - loss: 0.3198 - acc: 0.8734 - val_loss: 0.2720 - val_acc: 0.8907\n",
      "Epoch 2/10\n",
      "35000/35000 [==============================] - 1203s 34ms/step - loss: 0.2143 - acc: 0.9156 - val_loss: 0.2591 - val_acc: 0.8903\n",
      "Epoch 3/10\n",
      "35000/35000 [==============================] - 1235s 35ms/step - loss: 0.1850 - acc: 0.9286 - val_loss: 0.2637 - val_acc: 0.8951\n",
      "Epoch 4/10\n",
      "35000/35000 [==============================] - 1217s 35ms/step - loss: 0.1606 - acc: 0.9373 - val_loss: 0.3066 - val_acc: 0.8787\n",
      "Epoch 5/10\n",
      "35000/35000 [==============================] - 1227s 35ms/step - loss: 0.1376 - acc: 0.9490 - val_loss: 0.3257 - val_acc: 0.8907\n",
      "Epoch 6/10\n",
      "35000/35000 [==============================] - 1236s 35ms/step - loss: 0.1201 - acc: 0.9566 - val_loss: 0.3282 - val_acc: 0.8885\n",
      "Epoch 7/10\n",
      "35000/35000 [==============================] - 1228s 35ms/step - loss: 0.0997 - acc: 0.9653 - val_loss: 0.3386 - val_acc: 0.8819\n",
      "Epoch 8/10\n",
      "35000/35000 [==============================] - 1217s 35ms/step - loss: 0.0845 - acc: 0.9709 - val_loss: 0.3911 - val_acc: 0.8809\n",
      "Epoch 9/10\n",
      "35000/35000 [==============================] - 1231s 35ms/step - loss: 0.0680 - acc: 0.9774 - val_loss: 0.4376 - val_acc: 0.8775\n",
      "Epoch 10/10\n",
      "35000/35000 [==============================] - 1239s 35ms/step - loss: 0.0548 - acc: 0.9827 - val_loss: 0.4708 - val_acc: 0.8745\n",
      "Accuracy: 87.45%\n"
     ]
    }
   ],
   "source": [
    "HISTORY_2=model_2.fit(X_TRAIN, Y_TRAIN, nb_epoch=10, batch_size=64,verbose=1,validation_data=(X_TEST,Y_TEST))\n",
    "# Final evaluation of the model\n",
    "score = model_2.evaluate(X_TEST, Y_TEST, verbose=0)\n",
    "print(\"Accuracy: %.2f%%\" % (score[1]*100))"
   ]
  },
  {
   "cell_type": "code",
   "execution_count": 0,
   "metadata": {
    "colab": {
     "base_uri": "https://localhost:8080/",
     "height": 303
    },
    "colab_type": "code",
    "id": "Qf204I6Wq3cT",
    "outputId": "dc7fe00d-c3f7-4f82-ef3f-f0e884e50014"
   },
   "outputs": [
    {
     "name": "stdout",
     "output_type": "stream",
     "text": [
      "Test score: 0.47076364204560717\n",
      "Test accuracy: 0.8744666666666666\n"
     ]
    },
    {
     "data": {
      "image/png": "[encoded data removed]",
      "text/plain": [
       "<Figure size 432x288 with 1 Axes>"
      ]
     },
     "metadata": {
      "tags": []
     },
     "output_type": "display_data"
    }
   ],
   "source": [
    "print('Test score:', score[0]) \n",
    "print('Test accuracy:', score[1])\n",
    "import matplotlib.pyplot as PLT\n",
    "X = list(range(1,EPOCH +1))\n",
    "\n",
    "\n",
    "TEST_LOSS = HISTORY_2.history['val_loss']\n",
    "TRAIN_LOSS = HISTORY_2.history['loss']\n",
    "PLT.plot(X,TEST_LOSS, 'b', label=\"TEST Loss\")\n",
    "PLT.plot(X, TRAIN_LOSS, 'r', label=\"Train Loss\")\n",
    "PLT.legend()\n",
    "PLT.grid()\n"
   ]
  },
  {
   "cell_type": "markdown",
   "metadata": {
    "colab_type": "text",
    "id": "RJPXJ7cLuKlA"
   },
   "source": [
    "MODEL_3"
   ]
  },
  {
   "cell_type": "code",
   "execution_count": 23,
   "metadata": {
    "colab": {
     "base_uri": "https://localhost:8080/",
     "height": 311
    },
    "colab_type": "code",
    "id": "rDE-G8W0uL8J",
    "outputId": "c4d38e6f-8482-4643-863b-349aff4beb69"
   },
   "outputs": [
    {
     "name": "stdout",
     "output_type": "stream",
     "text": [
      "Model: \"sequential_6\"\n",
      "_________________________________________________________________\n",
      "Layer (type)                 Output Shape              Param #   \n",
      "=================================================================\n",
      "embedding_6 (Embedding)      (None, 500, 64)           320064    \n",
      "_________________________________________________________________\n",
      "lstm_12 (LSTM)               (None, 500, 80)           46400     \n",
      "_________________________________________________________________\n",
      "lstm_13 (LSTM)               (None, 50)                26200     \n",
      "_________________________________________________________________\n",
      "dense_5 (Dense)              (None, 1)                 51        \n",
      "=================================================================\n",
      "Total params: 392,715\n",
      "Trainable params: 392,715\n",
      "Non-trainable params: 0\n",
      "_________________________________________________________________\n",
      "None\n"
     ]
    }
   ],
   "source": [
    "embedding_vecor_length = 64\n",
    "model_3 = Sequential()\n",
    "model_3.add(Embedding(TOP_WORDS+1, embedding_vecor_length, input_length=max_review_length))\n",
    "model_3.add(LSTM(80,return_sequences=True))\n",
    "model_3.add(LSTM(50))\n",
    "#model_3.add(LSTM(30))\n",
    "model_3.add(Dense(1, activation='sigmoid'))\n",
    "model_3.compile(loss='binary_crossentropy', optimizer='adam', metrics=['accuracy'])\n",
    "print(model_3.summary())"
   ]
  },
  {
   "cell_type": "code",
   "execution_count": 24,
   "metadata": {
    "colab": {
     "base_uri": "https://localhost:8080/",
     "height": 432
    },
    "colab_type": "code",
    "id": "U78ID_aiugd1",
    "outputId": "31404052-33b5-41e8-c216-3c6005eab1c0"
   },
   "outputs": [
    {
     "name": "stderr",
     "output_type": "stream",
     "text": [
      "/usr/local/lib/python3.6/dist-packages/ipykernel_launcher.py:1: UserWarning: The `nb_epoch` argument in `fit` has been renamed `epochs`.\n",
      "  \"\"\"Entry point for launching an IPython kernel.\n"
     ]
    },
    {
     "name": "stdout",
     "output_type": "stream",
     "text": [
      "Train on 35000 samples, validate on 15000 samples\n",
      "Epoch 1/10\n",
      "35000/35000 [==============================] - 622s 18ms/step - loss: 0.3373 - acc: 0.8704 - val_loss: 0.2819 - val_acc: 0.8843\n",
      "Epoch 2/10\n",
      "35000/35000 [==============================] - 624s 18ms/step - loss: 0.2181 - acc: 0.9127 - val_loss: 0.2585 - val_acc: 0.8943\n",
      "Epoch 3/10\n",
      "35000/35000 [==============================] - 624s 18ms/step - loss: 0.1878 - acc: 0.9263 - val_loss: 0.2659 - val_acc: 0.8865\n",
      "Epoch 4/10\n",
      "35000/35000 [==============================] - 622s 18ms/step - loss: 0.1642 - acc: 0.9371 - val_loss: 0.2859 - val_acc: 0.8921\n",
      "Epoch 5/10\n",
      "35000/35000 [==============================] - 618s 18ms/step - loss: 0.1384 - acc: 0.9491 - val_loss: 0.3305 - val_acc: 0.8884\n",
      "Epoch 6/10\n",
      "35000/35000 [==============================] - 615s 18ms/step - loss: 0.1190 - acc: 0.9570 - val_loss: 0.3255 - val_acc: 0.8891\n",
      "Epoch 7/10\n",
      "35000/35000 [==============================] - 609s 17ms/step - loss: 0.1092 - acc: 0.9615 - val_loss: 0.3645 - val_acc: 0.8869\n",
      "Epoch 8/10\n",
      "35000/35000 [==============================] - 611s 17ms/step - loss: 0.0881 - acc: 0.9701 - val_loss: 0.3833 - val_acc: 0.8829\n",
      "Epoch 9/10\n",
      "35000/35000 [==============================] - 609s 17ms/step - loss: 0.0687 - acc: 0.9779 - val_loss: 0.4264 - val_acc: 0.8773\n",
      "Epoch 10/10\n",
      "35000/35000 [==============================] - 609s 17ms/step - loss: 0.0684 - acc: 0.9771 - val_loss: 0.4325 - val_acc: 0.8808\n",
      "Accuracy: 88.08%\n"
     ]
    }
   ],
   "source": [
    "HISTORY_3=model_3.fit(X_TRAIN, Y_TRAIN, nb_epoch=10, batch_size=132,verbose=1,validation_data=(X_TEST,Y_TEST))\n",
    "# Final evaluation of the model\n",
    "score = model_3.evaluate(X_TEST, Y_TEST, verbose=0)\n",
    "print(\"Accuracy: %.2f%%\" % (score[1]*100))"
   ]
  },
  {
   "cell_type": "code",
   "execution_count": 25,
   "metadata": {
    "colab": {
     "base_uri": "https://localhost:8080/",
     "height": 303
    },
    "colab_type": "code",
    "id": "-mIw6qrtun6L",
    "outputId": "e2b105c9-5ce4-4690-f148-4ae5d285f69d"
   },
   "outputs": [
    {
     "name": "stdout",
     "output_type": "stream",
     "text": [
      "Test score: 0.4325163844674826\n",
      "Test accuracy: 0.8808\n"
     ]
    },
    {
     "data": {
      "image/png": "[encoded data removed]",
      "text/plain": [
       "<Figure size 432x288 with 1 Axes>"
      ]
     },
     "metadata": {
      "tags": []
     },
     "output_type": "display_data"
    }
   ],
   "source": [
    "print('Test score:', score[0]) \n",
    "print('Test accuracy:', score[1])\n",
    "import matplotlib.pyplot as PLT\n",
    "X = list(range(1,EPOCH +1))\n",
    "\n",
    "\n",
    "TEST_LOSS = HISTORY_3.history['val_loss']\n",
    "TRAIN_LOSS = HISTORY_3.history['loss']\n",
    "PLT.plot(X,TEST_LOSS, 'b', label=\"TEST Loss\")\n",
    "PLT.plot(X, TRAIN_LOSS, 'r', label=\"Train Loss\")\n",
    "PLT.legend()\n",
    "PLT.grid()\n"
   ]
  },
  {
   "cell_type": "markdown",
   "metadata": {
    "colab_type": "text",
    "id": "3LIDbxnfuyA4"
   },
   "source": [
    "MODEL_4"
   ]
  },
  {
   "cell_type": "code",
   "execution_count": 14,
   "metadata": {
    "colab": {
     "base_uri": "https://localhost:8080/",
     "height": 449
    },
    "colab_type": "code",
    "id": "M8tjHTrKuxRP",
    "outputId": "db03833c-9a66-46c4-c2eb-109837a9c7a5"
   },
   "outputs": [
    {
     "name": "stdout",
     "output_type": "stream",
     "text": [
      "Model: \"sequential_2\"\n",
      "_________________________________________________________________\n",
      "Layer (type)                 Output Shape              Param #   \n",
      "=================================================================\n",
      "embedding_2 (Embedding)      (None, 500, 32)           160032    \n",
      "_________________________________________________________________\n",
      "batch_normalization_3 (Batch (None, 500, 32)           128       \n",
      "_________________________________________________________________\n",
      "lstm_3 (LSTM)                (None, 500, 80)           36160     \n",
      "_________________________________________________________________\n",
      "dropout_3 (Dropout)          (None, 500, 80)           0         \n",
      "_________________________________________________________________\n",
      "batch_normalization_4 (Batch (None, 500, 80)           320       \n",
      "_________________________________________________________________\n",
      "lstm_4 (LSTM)                (None, 50)                26200     \n",
      "_________________________________________________________________\n",
      "dropout_4 (Dropout)          (None, 50)                0         \n",
      "_________________________________________________________________\n",
      "dense_2 (Dense)              (None, 1)                 51        \n",
      "=================================================================\n",
      "Total params: 222,891\n",
      "Trainable params: 222,667\n",
      "Non-trainable params: 224\n",
      "_________________________________________________________________\n",
      "None\n"
     ]
    }
   ],
   "source": [
    "from keras.layers.normalization import BatchNormalization\n",
    "from keras.layers import Dropout\n",
    "from keras.regularizers import L1L2\n",
    "reg = L1L2(0.01, 0.01)\n",
    "embedding_vecor_length = 32\n",
    "model_4 = Sequential()\n",
    "model_4.add(Embedding(TOP_WORDS+1, embedding_vecor_length, input_length=max_review_length))\n",
    "model_4.add(BatchNormalization())\n",
    "model_4.add(LSTM(80,return_sequences=True,bias_regularizer=reg))\n",
    "model_4.add(Dropout(0.4))\n",
    "model_4.add(BatchNormalization())\n",
    "model_4.add(LSTM(50))\n",
    "model_4.add(Dropout(0.4))\n",
    "\n",
    "model_4.add(Dense(1, activation='sigmoid'))\n",
    "model_4.compile(loss='binary_crossentropy', optimizer='adam', metrics=['accuracy'])\n",
    "print(model_4.summary())"
   ]
  },
  {
   "cell_type": "code",
   "execution_count": 15,
   "metadata": {
    "colab": {
     "base_uri": "https://localhost:8080/",
     "height": 728
    },
    "colab_type": "code",
    "id": "2jG8so5ozw18",
    "outputId": "093c9efe-05bd-4d0e-be3f-73d70aa16ab5"
   },
   "outputs": [
    {
     "name": "stderr",
     "output_type": "stream",
     "text": [
      "/usr/local/lib/python3.6/dist-packages/ipykernel_launcher.py:1: UserWarning: The `nb_epoch` argument in `fit` has been renamed `epochs`.\n",
      "  \"\"\"Entry point for launching an IPython kernel.\n"
     ]
    },
    {
     "name": "stdout",
     "output_type": "stream",
     "text": [
      "WARNING:tensorflow:From /usr/local/lib/python3.6/dist-packages/keras/backend/tensorflow_backend.py:1033: The name tf.assign_add is deprecated. Please use tf.compat.v1.assign_add instead.\n",
      "\n",
      "WARNING:tensorflow:From /usr/local/lib/python3.6/dist-packages/keras/backend/tensorflow_backend.py:1020: The name tf.assign is deprecated. Please use tf.compat.v1.assign instead.\n",
      "\n",
      "WARNING:tensorflow:From /usr/local/lib/python3.6/dist-packages/keras/backend/tensorflow_backend.py:3005: The name tf.Session is deprecated. Please use tf.compat.v1.Session instead.\n",
      "\n",
      "Train on 35000 samples, validate on 15000 samples\n",
      "Epoch 1/10\n",
      "WARNING:tensorflow:From /usr/local/lib/python3.6/dist-packages/keras/backend/tensorflow_backend.py:190: The name tf.get_default_session is deprecated. Please use tf.compat.v1.get_default_session instead.\n",
      "\n",
      "WARNING:tensorflow:From /usr/local/lib/python3.6/dist-packages/keras/backend/tensorflow_backend.py:197: The name tf.ConfigProto is deprecated. Please use tf.compat.v1.ConfigProto instead.\n",
      "\n",
      "WARNING:tensorflow:From /usr/local/lib/python3.6/dist-packages/keras/backend/tensorflow_backend.py:207: The name tf.global_variables is deprecated. Please use tf.compat.v1.global_variables instead.\n",
      "\n",
      "WARNING:tensorflow:From /usr/local/lib/python3.6/dist-packages/keras/backend/tensorflow_backend.py:216: The name tf.is_variable_initialized is deprecated. Please use tf.compat.v1.is_variable_initialized instead.\n",
      "\n",
      "WARNING:tensorflow:From /usr/local/lib/python3.6/dist-packages/keras/backend/tensorflow_backend.py:223: The name tf.variables_initializer is deprecated. Please use tf.compat.v1.variables_initializer instead.\n",
      "\n",
      "35000/35000 [==============================] - 605s 17ms/step - loss: 1.6548 - acc: 0.8628 - val_loss: 1.3343 - val_acc: 0.8853\n",
      "Epoch 2/10\n",
      "35000/35000 [==============================] - 596s 17ms/step - loss: 1.0542 - acc: 0.9048 - val_loss: 0.8783 - val_acc: 0.8977\n",
      "Epoch 3/10\n",
      "35000/35000 [==============================] - 595s 17ms/step - loss: 0.6508 - acc: 0.9271 - val_loss: 0.5761 - val_acc: 0.8953\n",
      "Epoch 4/10\n",
      "35000/35000 [==============================] - 594s 17ms/step - loss: 0.3636 - acc: 0.9425 - val_loss: 0.4167 - val_acc: 0.8975\n",
      "Epoch 5/10\n",
      "35000/35000 [==============================] - 599s 17ms/step - loss: 0.1596 - acc: 0.9589 - val_loss: 0.3509 - val_acc: 0.8963\n",
      "Epoch 6/10\n",
      "35000/35000 [==============================] - 598s 17ms/step - loss: 0.0927 - acc: 0.9686 - val_loss: 0.3741 - val_acc: 0.8956\n",
      "Epoch 7/10\n",
      "35000/35000 [==============================] - 595s 17ms/step - loss: 0.0728 - acc: 0.9753 - val_loss: 0.4208 - val_acc: 0.8953\n",
      "Epoch 8/10\n",
      "35000/35000 [==============================] - 595s 17ms/step - loss: 0.0559 - acc: 0.9815 - val_loss: 0.4575 - val_acc: 0.8891\n",
      "Epoch 9/10\n",
      "35000/35000 [==============================] - 595s 17ms/step - loss: 0.0469 - acc: 0.9855 - val_loss: 0.4976 - val_acc: 0.8903\n",
      "Epoch 10/10\n",
      "35000/35000 [==============================] - 595s 17ms/step - loss: 0.0387 - acc: 0.9882 - val_loss: 0.5316 - val_acc: 0.8932\n",
      "Accuracy: 89.32%\n"
     ]
    }
   ],
   "source": [
    "HISTORY_4=model_4.fit(X_TRAIN, Y_TRAIN, nb_epoch=10, batch_size=132,verbose=1,validation_data=(X_TEST,Y_TEST))\n",
    "# Final evaluation of the model\n",
    "score = model_4.evaluate(X_TEST, Y_TEST, verbose=0)\n",
    "print(\"Accuracy: %.2f%%\" % (score[1]*100))"
   ]
  },
  {
   "cell_type": "code",
   "execution_count": 16,
   "metadata": {
    "colab": {
     "base_uri": "https://localhost:8080/",
     "height": 303
    },
    "colab_type": "code",
    "id": "PjR49QfHzy1F",
    "outputId": "49609ef2-efca-4851-ac57-94cdfd57d2f6"
   },
   "outputs": [
    {
     "name": "stdout",
     "output_type": "stream",
     "text": [
      "Test score: 0.5315722901547949\n",
      "Test accuracy: 0.8931999999682109\n"
     ]
    },
    {
     "data": {
      "image/png": "[encoded data removed]",
      "text/plain": [
       "<Figure size 432x288 with 1 Axes>"
      ]
     },
     "metadata": {
      "tags": []
     },
     "output_type": "display_data"
    }
   ],
   "source": [
    "\n",
    "print('Test score:', score[0]) \n",
    "print('Test accuracy:', score[1])\n",
    "import matplotlib.pyplot as PLT\n",
    "X = list(range(1,EPOCH +1))\n",
    "\n",
    "\n",
    "TEST_LOSS = HISTORY_4.history['val_loss']\n",
    "TRAIN_LOSS = HISTORY_4.history['loss']\n",
    "PLT.plot(X,TEST_LOSS, 'b', label=\"TEST Loss\")\n",
    "PLT.plot(X, TRAIN_LOSS, 'r', label=\"Train Loss\")\n",
    "PLT.legend()\n",
    "PLT.grid()\n"
   ]
  },
  {
   "cell_type": "markdown",
   "metadata": {
    "colab_type": "text",
    "id": "c5KgZuq3z9m1"
   },
   "source": [
    "MODEL_5"
   ]
  },
  {
   "cell_type": "code",
   "execution_count": 18,
   "metadata": {
    "colab": {
     "base_uri": "https://localhost:8080/",
     "height": 449
    },
    "colab_type": "code",
    "id": "0nnBcDrTz-4C",
    "outputId": "b779a353-d523-41da-9ba2-4bbc3585fccf"
   },
   "outputs": [
    {
     "name": "stdout",
     "output_type": "stream",
     "text": [
      "Model: \"sequential_4\"\n",
      "_________________________________________________________________\n",
      "Layer (type)                 Output Shape              Param #   \n",
      "=================================================================\n",
      "embedding_4 (Embedding)      (None, 500, 20)           100020    \n",
      "_________________________________________________________________\n",
      "batch_normalization_8 (Batch (None, 500, 20)           80        \n",
      "_________________________________________________________________\n",
      "lstm_8 (LSTM)                (None, 500, 40)           9760      \n",
      "_________________________________________________________________\n",
      "dropout_7 (Dropout)          (None, 500, 40)           0         \n",
      "_________________________________________________________________\n",
      "batch_normalization_9 (Batch (None, 500, 40)           160       \n",
      "_________________________________________________________________\n",
      "lstm_9 (LSTM)                (None, 20)                4880      \n",
      "_________________________________________________________________\n",
      "dropout_8 (Dropout)          (None, 20)                0         \n",
      "_________________________________________________________________\n",
      "dense_3 (Dense)              (None, 1)                 21        \n",
      "=================================================================\n",
      "Total params: 114,921\n",
      "Trainable params: 114,801\n",
      "Non-trainable params: 120\n",
      "_________________________________________________________________\n",
      "None\n"
     ]
    }
   ],
   "source": [
    "embedding_vecor_length = 20\n",
    "model_5 = Sequential()\n",
    "model_5.add(Embedding(TOP_WORDS+1, embedding_vecor_length, input_length=max_review_length))\n",
    "model_5.add(BatchNormalization())\n",
    "model_5.add(LSTM(40,return_sequences=True))\n",
    "model_5.add(Dropout(0.5))\n",
    "model_5.add(BatchNormalization())\n",
    "model_5.add(LSTM(20))\n",
    "model_5.add(Dropout(0.5))\n",
    "\n",
    "model_5.add(Dense(1, activation='sigmoid'))\n",
    "model_5.compile(loss='binary_crossentropy', optimizer='adam', metrics=['accuracy'])\n",
    "print(model_5.summary())"
   ]
  },
  {
   "cell_type": "code",
   "execution_count": 19,
   "metadata": {
    "colab": {
     "base_uri": "https://localhost:8080/",
     "height": 432
    },
    "colab_type": "code",
    "id": "8Uuk0F5F0ewn",
    "outputId": "4e37ec18-e176-4664-c37f-eb66029af4f2"
   },
   "outputs": [
    {
     "name": "stderr",
     "output_type": "stream",
     "text": [
      "/usr/local/lib/python3.6/dist-packages/ipykernel_launcher.py:1: UserWarning: The `nb_epoch` argument in `fit` has been renamed `epochs`.\n",
      "  \"\"\"Entry point for launching an IPython kernel.\n"
     ]
    },
    {
     "name": "stdout",
     "output_type": "stream",
     "text": [
      "Train on 35000 samples, validate on 15000 samples\n",
      "Epoch 1/10\n",
      "35000/35000 [==============================] - 1252s 36ms/step - loss: 0.3517 - acc: 0.8598 - val_loss: 0.2745 - val_acc: 0.8845\n",
      "Epoch 2/10\n",
      "35000/35000 [==============================] - 1246s 36ms/step - loss: 0.2434 - acc: 0.9040 - val_loss: 0.2599 - val_acc: 0.8899\n",
      "Epoch 3/10\n",
      "35000/35000 [==============================] - 1247s 36ms/step - loss: 0.2001 - acc: 0.9241 - val_loss: 0.2690 - val_acc: 0.8933\n",
      "Epoch 4/10\n",
      "35000/35000 [==============================] - 1251s 36ms/step - loss: 0.1667 - acc: 0.9388 - val_loss: 0.3116 - val_acc: 0.8957\n",
      "Epoch 5/10\n",
      "35000/35000 [==============================] - 1251s 36ms/step - loss: 0.1367 - acc: 0.9506 - val_loss: 0.3376 - val_acc: 0.8943\n",
      "Epoch 6/10\n",
      "35000/35000 [==============================] - 1254s 36ms/step - loss: 0.1110 - acc: 0.9616 - val_loss: 0.3833 - val_acc: 0.8929\n",
      "Epoch 7/10\n",
      "35000/35000 [==============================] - 1261s 36ms/step - loss: 0.0964 - acc: 0.9667 - val_loss: 0.3972 - val_acc: 0.8920\n",
      "Epoch 8/10\n",
      "35000/35000 [==============================] - 1262s 36ms/step - loss: 0.0798 - acc: 0.9718 - val_loss: 0.4450 - val_acc: 0.8915\n",
      "Epoch 9/10\n",
      "35000/35000 [==============================] - 1253s 36ms/step - loss: 0.0647 - acc: 0.9777 - val_loss: 0.4948 - val_acc: 0.8893\n",
      "Epoch 10/10\n",
      "35000/35000 [==============================] - 1254s 36ms/step - loss: 0.0599 - acc: 0.9808 - val_loss: 0.5068 - val_acc: 0.8795\n",
      "Accuracy: 87.95%\n"
     ]
    }
   ],
   "source": [
    "HISTORY_5=model_5.fit(X_TRAIN, Y_TRAIN, nb_epoch=10, batch_size=64,verbose=1,validation_data=(X_TEST,Y_TEST))\n",
    "# Final evaluation of the model\n",
    "score = model_5.evaluate(X_TEST, Y_TEST, verbose=0)\n",
    "print(\"Accuracy: %.2f%%\" % (score[1]*100))"
   ]
  },
  {
   "cell_type": "code",
   "execution_count": 20,
   "metadata": {
    "colab": {
     "base_uri": "https://localhost:8080/",
     "height": 303
    },
    "colab_type": "code",
    "id": "pRsKOusd0j2p",
    "outputId": "878ec6d9-75d0-42c2-ba27-282d8668db00"
   },
   "outputs": [
    {
     "name": "stdout",
     "output_type": "stream",
     "text": [
      "Test score: 0.5067834332764148\n",
      "Test accuracy: 0.8795333333651225\n"
     ]
    },
    {
     "data": {
      "image/png": "[encoded data removed]",
      "text/plain": [
       "<Figure size 432x288 with 1 Axes>"
      ]
     },
     "metadata": {
      "tags": []
     },
     "output_type": "display_data"
    }
   ],
   "source": [
    "print('Test score:', score[0]) \n",
    "print('Test accuracy:', score[1])\n",
    "import matplotlib.pyplot as PLT\n",
    "X = list(range(1,EPOCH +1))\n",
    "\n",
    "\n",
    "TEST_LOSS = HISTORY_5.history['val_loss']\n",
    "TRAIN_LOSS = HISTORY_5.history['loss']\n",
    "PLT.plot(X,TEST_LOSS, 'b', label=\"TEST Loss\")\n",
    "PLT.plot(X, TRAIN_LOSS, 'r', label=\"Train Loss\")\n",
    "PLT.legend()\n",
    "PLT.grid()\n"
   ]
  },
  {
   "cell_type": "code",
   "execution_count": 0,
   "metadata": {
    "colab": {},
    "colab_type": "code",
    "id": "2X8kFtCkEGTV"
   },
   "outputs": [],
   "source": []
  },
  {
   "cell_type": "code",
   "execution_count": 0,
   "metadata": {
    "colab": {},
    "colab_type": "code",
    "id": "IwxYv_-MBWXU"
   },
   "outputs": [],
   "source": [
    "TEXT = DATA['Text'].values\n",
    "LABEL= DATA['Score'].values\n",
    "from sklearn.model_selection import train_test_split\n",
    "X_TRAIN , X_TEST , Y_TRAIN , Y_TEST = train_test_split(TEXT[0:50000],LABEL[0:50000],test_size = 0.3,random_state = 0,shuffle = False)"
   ]
  },
  {
   "cell_type": "markdown",
   "metadata": {
    "colab_type": "text",
    "id": "LDdAPVGPINOb"
   },
   "source": []
  },
  {
   "cell_type": "code",
   "execution_count": 0,
   "metadata": {
    "colab": {},
    "colab_type": "code",
    "id": "dwr9__dICAKD"
   },
   "outputs": [],
   "source": [
    "from nltk import FreqDist\n",
    "WORD_DISTRIBUTION_TRAIN = FreqDist()\n",
    "\n",
    "for text in X_TRAIN:\n",
    "    WORD_DISTRIBUTION_TRAIN.update(text.split())\n",
    "\n",
    "WORD_DISTRIBUTION_TRAIN= dict(WORD_DISTRIBUTION_TRAIN)\n",
    "\n",
    "import operator\n",
    "WORD_DISTRIBUTION_TRAIN = sorted(WORD_DISTRIBUTION_TRAIN.items(), key=operator.itemgetter(1),reverse = True)\n",
    "\n",
    "RANK_DICT_TRAIN = {}\n",
    "RANK = 1\n",
    "for num in range(len(WORD_DISTRIBUTION_TRAIN)):\n",
    "    i = WORD_DISTRIBUTION_TRAIN[num][0]\n",
    "    RANK_DICT_TRAIN[i] = RANK\n",
    "    RANK+=1\n",
    "\n",
    "VECTOR_TRAIN= []\n",
    "for sentence in X_TRAIN:\n",
    "    rows = []\n",
    "    for word in sentence.split():\n",
    "      if RANK_DICT_TRAIN[word]<=5000 :\n",
    "        rows.append(RANK_DICT_TRAIN[word])\n",
    "    VECTOR_TRAIN.append(rows)\n",
    "    \n",
    "VECTOR_TEST= []\n",
    "for sentence in X_TEST:\n",
    "    rows = []\n",
    "    for word in sentence.split():\n",
    "      A=word in  RANK_DICT_TRAIN\n",
    "      if A == True:\n",
    "        if RANK_DICT_TRAIN[word]<=5000 :\n",
    "          rows.append(RANK_DICT_TRAIN[word])\n",
    "    VECTOR_TEST.append(rows)\n",
    "        "
   ]
  },
  {
   "cell_type": "code",
   "execution_count": 0,
   "metadata": {
    "colab": {},
    "colab_type": "code",
    "id": "ndra86yos0qc"
   },
   "outputs": [],
   "source": [
    "\n",
    "\n",
    "VECTOR_TEST= []\n",
    "for sentence in X_TEST:\n",
    "    rows = []\n",
    "    for word in sentence.split():\n",
    "      A=word in  RANK_DICT_TRAIN\n",
    "      if A == True:\n",
    "        if RANK_DICT_TRAIN[word]<=5000 :\n",
    "          rows.append(RANK_DICT_TRAIN[word])\n",
    "    VECTOR_TEST.append(rows)\n",
    "        "
   ]
  },
  {
   "cell_type": "code",
   "execution_count": 0,
   "metadata": {
    "colab": {
     "base_uri": "https://localhost:8080/",
     "height": 34
    },
    "colab_type": "code",
    "id": "oBTwBlBL0Ma-",
    "outputId": "d9875f49-cd4c-4314-a563-6a8fdcf596ca"
   },
   "outputs": [
    {
     "data": {
      "text/plain": [
       "(15000, 35000)"
      ]
     },
     "execution_count": 70,
     "metadata": {
      "tags": []
     },
     "output_type": "execute_result"
    }
   ],
   "source": [
    "len(VECTOR_TEST),len(VECTOR_TRAIN)"
   ]
  },
  {
   "cell_type": "code",
   "execution_count": 0,
   "metadata": {
    "colab": {
     "base_uri": "https://localhost:8080/",
     "height": 656
    },
    "colab_type": "code",
    "id": "6xIE4xFWuET8",
    "outputId": "aaef675f-98bf-4c45-8ae6-1e8e8fdeb2e2"
   },
   "outputs": [
    {
     "name": "stdout",
     "output_type": "stream",
     "text": [
      "(35000, 500)\n",
      "[   0    0    0    0    0    0    0    0    0    0    0    0    0    0\n",
      "    0    0    0    0    0    0    0    0    0    0    0    0    0    0\n",
      "    0    0    0    0    0    0    0    0    0    0    0    0    0    0\n",
      "    0    0    0    0    0    0    0    0    0    0    0    0    0    0\n",
      "    0    0    0    0    0    0    0    0    0    0    0    0    0    0\n",
      "    0    0    0    0    0    0    0    0    0    0    0    0    0    0\n",
      "    0    0    0    0    0    0    0    0    0    0    0    0    0    0\n",
      "    0    0    0    0    0    0    0    0    0    0    0    0    0    0\n",
      "    0    0    0    0    0    0    0    0    0    0    0    0    0    0\n",
      "    0    0    0    0    0    0    0    0    0    0    0    0    0    0\n",
      "    0    0    0    0    0    0    0    0    0    0    0    0    0    0\n",
      "    0    0    0    0    0    0    0    0    0    0    0    0    0    0\n",
      "    0    0    0    0    0    0    0    0    0    0    0    0    0    0\n",
      "    0    0    0    0    0    0    0    0    0    0    0    0    0    0\n",
      "    0    0    0    0    0    0    0    0    0    0    0    0    0    0\n",
      "    0    0    0    0    0    0    0    0    0    0    0    0    0    0\n",
      "    0    0    0    0    0    0    0    0    0    0    0    0    0    0\n",
      "    0    0    0    0    0    0    0    0    0    0    0    0    0    0\n",
      "    0    0    0    0    0    0    0    0    0    0    0    0    0    0\n",
      "    0    0    0    0    0    0    0    0    0    0    0    0    0    0\n",
      "    0    0    0    0    0    0    0    0    0    0    0    0    0    0\n",
      "    0    0    0    0    0    0    0    0    0    0    0    0    0    0\n",
      "    0    0    0    0    0    0    0    0    0    0    0    0    0    0\n",
      "    0    0    0    0    0    0    0    0    0    0    0    0    0    0\n",
      "    0    0    0    0    0    0    0    0    0    0    0    0    0    0\n",
      "    0    0    0    0    0    0    0    0    0    0    0    0    0    0\n",
      "    0    0    0    0    0    0    0    0    0    0    0    0    0    0\n",
      "    0    0    0    0    0    0    0    0    0    0    0    0    0    0\n",
      "    0    0    0    0    0    0    0    0    0    0    0    0    0    0\n",
      "    0    0    0    0    0    0    0    0    0    0    0    0    0    0\n",
      "    0    0    0    0    0    0    0    0    0    0    0    0    0    0\n",
      "    0    0    0    0    0    0    0    0    0    0    0    0    0    0\n",
      "    0    0    0    0    0    0    0    0    0    0    0    0    0    0\n",
      "    0    0    0    0    0    0    0    0    0    0    0    0    0    0\n",
      " 1959  381 2608   23 1604   72  230  187 1258  236  196   52   11   18\n",
      "   64   29   52    1 2573 3942    5    1   58   23]\n"
     ]
    }
   ],
   "source": [
    "from keras.preprocessing import sequence\n",
    "max_review_length = 500\n",
    "X_TRAIN = sequence.pad_sequences(VECTOR_TRAIN, maxlen=max_review_length)\n",
    "X_TEST = sequence.pad_sequences(VECTOR_TEST, maxlen=max_review_length)\n",
    "\n",
    "print(X_TRAIN.shape)\n",
    "print(X_TRAIN[1])"
   ]
  },
  {
   "cell_type": "code",
   "execution_count": 0,
   "metadata": {
    "colab": {
     "base_uri": "https://localhost:8080/",
     "height": 1000
    },
    "colab_type": "code",
    "id": "aW4tmT22JOKB",
    "outputId": "6ec740db-d036-40ca-a66d-93463d9c8c2d"
   },
   "outputs": [
    {
     "name": "stdout",
     "output_type": "stream",
     "text": [
      "WARNING:tensorflow:From /usr/local/lib/python3.6/dist-packages/keras/backend/tensorflow_backend.py:66: The name tf.get_default_graph is deprecated. Please use tf.compat.v1.get_default_graph instead.\n",
      "\n",
      "WARNING:tensorflow:From /usr/local/lib/python3.6/dist-packages/keras/backend/tensorflow_backend.py:541: The name tf.placeholder is deprecated. Please use tf.compat.v1.placeholder instead.\n",
      "\n",
      "WARNING:tensorflow:From /usr/local/lib/python3.6/dist-packages/keras/backend/tensorflow_backend.py:4432: The name tf.random_uniform is deprecated. Please use tf.random.uniform instead.\n",
      "\n",
      "WARNING:tensorflow:From /usr/local/lib/python3.6/dist-packages/keras/backend/tensorflow_backend.py:148: The name tf.placeholder_with_default is deprecated. Please use tf.compat.v1.placeholder_with_default instead.\n",
      "\n",
      "WARNING:tensorflow:From /usr/local/lib/python3.6/dist-packages/keras/backend/tensorflow_backend.py:3733: calling dropout (from tensorflow.python.ops.nn_ops) with keep_prob is deprecated and will be removed in a future version.\n",
      "Instructions for updating:\n",
      "Please use `rate` instead of `keep_prob`. Rate should be set to `rate = 1 - keep_prob`.\n",
      "Model Summary: \n",
      "\n",
      "Model: \"sequential_1\"\n",
      "_________________________________________________________________\n",
      "Layer (type)                 Output Shape              Param #   \n",
      "=================================================================\n",
      "embedding_1 (Embedding)      (None, 500, 32)           160032    \n",
      "_________________________________________________________________\n",
      "batch_normalization_1 (Batch (None, 500, 32)           128       \n",
      "_________________________________________________________________\n",
      "dropout_1 (Dropout)          (None, 500, 32)           0         \n",
      "_________________________________________________________________\n",
      "lstm_1 (LSTM)                (None, 500, 100)          53200     \n",
      "_________________________________________________________________\n",
      "dropout_2 (Dropout)          (None, 500, 100)          0         \n",
      "_________________________________________________________________\n",
      "lstm_2 (LSTM)                (None, 500, 80)           57920     \n",
      "_________________________________________________________________\n",
      "dropout_3 (Dropout)          (None, 500, 80)           0         \n",
      "_________________________________________________________________\n",
      "lstm_3 (LSTM)                (None, 500, 60)           33840     \n",
      "_________________________________________________________________\n",
      "dropout_4 (Dropout)          (None, 500, 60)           0         \n",
      "_________________________________________________________________\n",
      "lstm_4 (LSTM)                (None, 500, 40)           16160     \n",
      "_________________________________________________________________\n",
      "batch_normalization_2 (Batch (None, 500, 40)           160       \n",
      "_________________________________________________________________\n",
      "dropout_5 (Dropout)          (None, 500, 40)           0         \n",
      "_________________________________________________________________\n",
      "lstm_5 (LSTM)                (None, 20)                4880      \n",
      "_________________________________________________________________\n",
      "dropout_6 (Dropout)          (None, 20)                0         \n",
      "_________________________________________________________________\n",
      "dense_1 (Dense)              (None, 1)                 21        \n",
      "=================================================================\n",
      "Total params: 326,341\n",
      "Trainable params: 326,197\n",
      "Non-trainable params: 144\n",
      "_________________________________________________________________\n",
      "\n",
      "\n",
      "WARNING:tensorflow:From /usr/local/lib/python3.6/dist-packages/keras/optimizers.py:793: The name tf.train.Optimizer is deprecated. Please use tf.compat.v1.train.Optimizer instead.\n",
      "\n",
      "WARNING:tensorflow:From /usr/local/lib/python3.6/dist-packages/keras/backend/tensorflow_backend.py:3657: The name tf.log is deprecated. Please use tf.math.log instead.\n",
      "\n",
      "WARNING:tensorflow:From /usr/local/lib/python3.6/dist-packages/tensorflow_core/python/ops/nn_impl.py:183: where (from tensorflow.python.ops.array_ops) is deprecated and will be removed in a future version.\n",
      "Instructions for updating:\n",
      "Use tf.where in 2.0, which has the same broadcast rule as np.where\n"
     ]
    }
   ],
   "source": [
    "#%%time\n",
    "from keras.regularizers import L1L2\n",
    "reg = L1L2(0.01, 0.01)\n",
    "from keras.layers.normalization import BatchNormalization\n",
    "from keras.layers import Dropout\n",
    "max_review_length=500\n",
    "embedding_vecor_length=32\n",
    "\n",
    "TOP_WORDS = 5000\n",
    "EPOCH = 10\n",
    "BATCH_SIZE = 192\n",
    "\n",
    "# Instantiate sequntial model\n",
    "model = Sequential()\n",
    "\n",
    "# Add Embedding Layer\n",
    "model.add(Embedding(TOP_WORDS+1, embedding_vecor_length, input_length=max_review_length))\n",
    "\n",
    "# Add batch normalization\n",
    "model.add(BatchNormalization())\n",
    "\n",
    "# Add dropout\n",
    "model.add(Dropout(0.20))\n",
    "\n",
    "# Add LSTM Layer 1\n",
    "model.add(LSTM(100,return_sequences=True,bias_regularizer=reg))\n",
    "\n",
    "# Add dropout\n",
    "model.add(Dropout(0.20))\n",
    "\n",
    "# Add LSTM Layer 2\n",
    "model.add(LSTM(80,return_sequences=True,bias_regularizer=reg))\n",
    "\n",
    "# Add dropout\n",
    "model.add(Dropout(0.20))\n",
    "\n",
    "# Add LSTM Layer 3\n",
    "model.add(LSTM(60,return_sequences=True,bias_regularizer=reg))\n",
    "\n",
    "# Add dropout\n",
    "model.add(Dropout(0.30))\n",
    "\n",
    "# Add LSTM Layer 4\n",
    "model.add(LSTM(40,return_sequences=True,bias_regularizer=reg))\n",
    "\n",
    "# Add batch normalization\n",
    "model.add(BatchNormalization())\n",
    "\n",
    "# Add dropout\n",
    "model.add(Dropout(0.40))\n",
    "\n",
    "# Add LSTM Layer 5\n",
    "model.add(LSTM(20))\n",
    "\n",
    "# Add dropout\n",
    "model.add(Dropout(0.50))\n",
    "\n",
    "# Add Dense Layer\n",
    "model.add(Dense(1, activation='sigmoid'))\n",
    "\n",
    "\n",
    "# Summary of the model\n",
    "print(\"Model Summary: \\n\")\n",
    "model.summary()\n",
    "print()\n",
    "print()\n",
    "\n",
    "# Compile the model \n",
    "model.compile(loss='binary_crossentropy', optimizer='adam', metrics=['accuracy'])\n",
    "\n",
    "# Run the model\n",
    "\n",
    "#trained_model = model.fit(x_train, np.array(y_train), batch_size = batch_size, epochs = epochs, verbose=1, validation_data=(x_test, y_test))"
   ]
  },
  {
   "cell_type": "code",
   "execution_count": 0,
   "metadata": {
    "colab": {},
    "colab_type": "code",
    "id": "yNqaAo4Kqy9h"
   },
   "outputs": [],
   "source": []
  },
  {
   "cell_type": "code",
   "execution_count": 0,
   "metadata": {
    "colab": {
     "base_uri": "https://localhost:8080/",
     "height": 556
    },
    "colab_type": "code",
    "id": "WRA7Zbpagxl3",
    "outputId": "f8dcf99d-9259-438a-f988-3f79bb640616"
   },
   "outputs": [
    {
     "name": "stderr",
     "output_type": "stream",
     "text": [
      "/usr/local/lib/python3.6/dist-packages/ipykernel_launcher.py:1: UserWarning: The `nb_epoch` argument in `fit` has been renamed `epochs`.\n",
      "  \"\"\"Entry point for launching an IPython kernel.\n"
     ]
    },
    {
     "name": "stdout",
     "output_type": "stream",
     "text": [
      "WARNING:tensorflow:From /usr/local/lib/python3.6/dist-packages/keras/backend/tensorflow_backend.py:1033: The name tf.assign_add is deprecated. Please use tf.compat.v1.assign_add instead.\n",
      "\n",
      "WARNING:tensorflow:From /usr/local/lib/python3.6/dist-packages/keras/backend/tensorflow_backend.py:1020: The name tf.assign is deprecated. Please use tf.compat.v1.assign instead.\n",
      "\n",
      "WARNING:tensorflow:From /usr/local/lib/python3.6/dist-packages/keras/backend/tensorflow_backend.py:3005: The name tf.Session is deprecated. Please use tf.compat.v1.Session instead.\n",
      "\n",
      "Train on 35000 samples, validate on 15000 samples\n",
      "Epoch 1/5\n",
      "WARNING:tensorflow:From /usr/local/lib/python3.6/dist-packages/keras/backend/tensorflow_backend.py:190: The name tf.get_default_session is deprecated. Please use tf.compat.v1.get_default_session instead.\n",
      "\n",
      "WARNING:tensorflow:From /usr/local/lib/python3.6/dist-packages/keras/backend/tensorflow_backend.py:197: The name tf.ConfigProto is deprecated. Please use tf.compat.v1.ConfigProto instead.\n",
      "\n",
      "WARNING:tensorflow:From /usr/local/lib/python3.6/dist-packages/keras/backend/tensorflow_backend.py:207: The name tf.global_variables is deprecated. Please use tf.compat.v1.global_variables instead.\n",
      "\n",
      "WARNING:tensorflow:From /usr/local/lib/python3.6/dist-packages/keras/backend/tensorflow_backend.py:216: The name tf.is_variable_initialized is deprecated. Please use tf.compat.v1.is_variable_initialized instead.\n",
      "\n",
      "WARNING:tensorflow:From /usr/local/lib/python3.6/dist-packages/keras/backend/tensorflow_backend.py:223: The name tf.variables_initializer is deprecated. Please use tf.compat.v1.variables_initializer instead.\n",
      "\n",
      "35000/35000 [==============================] - 1154s 33ms/step - loss: 5.1628 - acc: 0.8489 - val_loss: 4.3666 - val_acc: 0.8619\n",
      "Epoch 2/5\n",
      "35000/35000 [==============================] - 1125s 32ms/step - loss: 3.5966 - acc: 0.8795 - val_loss: 3.0143 - val_acc: 0.8846\n",
      "Epoch 3/5\n",
      "35000/35000 [==============================] - 1114s 32ms/step - loss: 2.4080 - acc: 0.9046 - val_loss: 1.9859 - val_acc: 0.8883\n",
      "Epoch 4/5\n",
      "35000/35000 [==============================] - 1126s 32ms/step - loss: 1.5038 - acc: 0.9196 - val_loss: 1.2052 - val_acc: 0.8925\n",
      "Epoch 5/5\n",
      "35000/35000 [==============================] - 1116s 32ms/step - loss: 0.8163 - acc: 0.9344 - val_loss: 0.6528 - val_acc: 0.8908\n",
      "Accuracy: 89.08%\n"
     ]
    }
   ],
   "source": [
    "HISTORY_LATEST=model.fit(X_TRAIN, Y_TRAIN, nb_epoch=5, batch_size=164,verbose=1,validation_data=(X_TEST,Y_TEST))\n",
    "score = model.evaluate(X_TEST, Y_TEST, verbose=0)\n",
    "print(\"Accuracy: %.2f%%\" % (score[1]*100))"
   ]
  },
  {
   "cell_type": "code",
   "execution_count": 0,
   "metadata": {
    "colab": {
     "base_uri": "https://localhost:8080/",
     "height": 269
    },
    "colab_type": "code",
    "id": "HaQtUAabhXqk",
    "outputId": "a2bfe5f1-58e0-4cf9-a8c9-0637145db480"
   },
   "outputs": [
    {
     "data": {
      "image/png": "[encoded data removed]",
      "text/plain": [
       "<Figure size 432x288 with 1 Axes>"
      ]
     },
     "metadata": {
      "tags": []
     },
     "output_type": "display_data"
    }
   ],
   "source": [
    "\n",
    "import matplotlib.pyplot as plt\n",
    "#X = list(range(1,EPOCH +1))\n",
    "\n",
    "\n",
    "x_axis_values = list(range(1,5 +1))\n",
    "\n",
    "validation_loss = HISTORY_LATEST.history['val_loss']\n",
    "train_loss = HISTORY_LATEST.history['loss']   \n",
    "    \n",
    "plt.plot(x_axis_values, validation_loss, 'b', label=\"Validation Loss\")\n",
    "plt.plot(x_axis_values, train_loss, 'r', label=\"Train Loss\")\n",
    "plt.legend()\n",
    "plt.grid()\n",
    "#fig.canvas.draw()\n"
   ]
  },
  {
   "cell_type": "code",
   "execution_count": 0,
   "metadata": {
    "colab": {
     "base_uri": "https://localhost:8080/",
     "height": 743
    },
    "colab_type": "code",
    "id": "Fzak4nQ8P107",
    "outputId": "6c2f3bd2-85e6-4ac8-c5b7-94bab45b3672"
   },
   "outputs": [
    {
     "name": "stdout",
     "output_type": "stream",
     "text": [
      "Model Summary: \n",
      "\n",
      "Model: \"sequential_2\"\n",
      "_________________________________________________________________\n",
      "Layer (type)                 Output Shape              Param #   \n",
      "=================================================================\n",
      "embedding_2 (Embedding)      (None, 500, 32)           160032    \n",
      "_________________________________________________________________\n",
      "batch_normalization_3 (Batch (None, 500, 32)           128       \n",
      "_________________________________________________________________\n",
      "dropout_7 (Dropout)          (None, 500, 32)           0         \n",
      "_________________________________________________________________\n",
      "lstm_6 (LSTM)                (None, 500, 100)          53200     \n",
      "_________________________________________________________________\n",
      "dropout_8 (Dropout)          (None, 500, 100)          0         \n",
      "_________________________________________________________________\n",
      "lstm_7 (LSTM)                (None, 500, 80)           57920     \n",
      "_________________________________________________________________\n",
      "dropout_9 (Dropout)          (None, 500, 80)           0         \n",
      "_________________________________________________________________\n",
      "lstm_8 (LSTM)                (None, 500, 60)           33840     \n",
      "_________________________________________________________________\n",
      "dropout_10 (Dropout)         (None, 500, 60)           0         \n",
      "_________________________________________________________________\n",
      "lstm_9 (LSTM)                (None, 500, 40)           16160     \n",
      "_________________________________________________________________\n",
      "batch_normalization_4 (Batch (None, 500, 40)           160       \n",
      "_________________________________________________________________\n",
      "dropout_11 (Dropout)         (None, 500, 40)           0         \n",
      "_________________________________________________________________\n",
      "lstm_10 (LSTM)               (None, 20)                4880      \n",
      "_________________________________________________________________\n",
      "dropout_12 (Dropout)         (None, 20)                0         \n",
      "_________________________________________________________________\n",
      "dense_2 (Dense)              (None, 1)                 21        \n",
      "=================================================================\n",
      "Total params: 326,341\n",
      "Trainable params: 326,197\n",
      "Non-trainable params: 144\n",
      "_________________________________________________________________\n",
      "\n",
      "\n"
     ]
    }
   ],
   "source": [
    "#%%time\n",
    "from keras.regularizers import L1L2\n",
    "reg = L1L2(0.01, 0.01)\n",
    "from keras.layers.normalization import BatchNormalization\n",
    "from keras.layers import Dropout\n",
    "max_review_length=500\n",
    "embedding_vecor_length=32\n",
    "\n",
    "TOP_WORDS = 5000\n",
    "EPOCH = 10\n",
    "BATCH_SIZE = 192\n",
    "\n",
    "# Instantiate sequntial model\n",
    "model = Sequential()\n",
    "\n",
    "# Add Embedding Layer\n",
    "model.add(Embedding(TOP_WORDS+1, embedding_vecor_length, input_length=max_review_length))\n",
    "\n",
    "# Add batch normalization\n",
    "model.add(BatchNormalization())\n",
    "\n",
    "# Add dropout\n",
    "model.add(Dropout(0.20))\n",
    "\n",
    "# Add LSTM Layer 1\n",
    "model.add(LSTM(100,return_sequences=True,bias_regularizer=reg))\n",
    "\n",
    "# Add dropout\n",
    "model.add(Dropout(0.20))\n",
    "\n",
    "# Add LSTM Layer 2\n",
    "model.add(LSTM(80,return_sequences=True,bias_regularizer=reg))\n",
    "\n",
    "# Add dropout\n",
    "model.add(Dropout(0.20))\n",
    "\n",
    "# Add LSTM Layer 3\n",
    "model.add(LSTM(60,return_sequences=True,bias_regularizer=reg))\n",
    "\n",
    "# Add dropout\n",
    "model.add(Dropout(0.30))\n",
    "\n",
    "# Add LSTM Layer 4\n",
    "model.add(LSTM(40,return_sequences=True,bias_regularizer=reg))\n",
    "\n",
    "# Add batch normalization\n",
    "model.add(BatchNormalization())\n",
    "\n",
    "# Add dropout\n",
    "model.add(Dropout(0.40))\n",
    "\n",
    "# Add LSTM Layer 5\n",
    "model.add(LSTM(20))\n",
    "\n",
    "# Add dropout\n",
    "model.add(Dropout(0.50))\n",
    "\n",
    "# Add Dense Layer\n",
    "model.add(Dense(1, activation='sigmoid'))\n",
    "\n",
    "\n",
    "# Summary of the model\n",
    "print(\"Model Summary: \\n\")\n",
    "model.summary()\n",
    "print()\n",
    "print()\n",
    "\n",
    "# Compile the model \n",
    "model.compile(loss='binary_crossentropy', optimizer='adam', metrics=['accuracy'])\n",
    "\n",
    "# Run the model\n",
    "\n",
    "#trained_model = model.fit(x_train, np.array(y_train), batch_size = batch_size, epochs = epochs, verbose=1, validation_data=(x_test, y_test))"
   ]
  },
  {
   "cell_type": "code",
   "execution_count": 0,
   "metadata": {
    "colab": {
     "base_uri": "https://localhost:8080/",
     "height": 432
    },
    "colab_type": "code",
    "id": "DxtievsiP62n",
    "outputId": "b5a2d314-6aa1-4bf4-c0a7-b7742e4ef011"
   },
   "outputs": [
    {
     "name": "stderr",
     "output_type": "stream",
     "text": [
      "/usr/local/lib/python3.6/dist-packages/ipykernel_launcher.py:1: UserWarning: The `nb_epoch` argument in `fit` has been renamed `epochs`.\n",
      "  \"\"\"Entry point for launching an IPython kernel.\n"
     ]
    },
    {
     "name": "stdout",
     "output_type": "stream",
     "text": [
      "Train on 35000 samples, validate on 15000 samples\n",
      "Epoch 1/10\n",
      "35000/35000 [==============================] - 1136s 32ms/step - loss: 5.1976 - acc: 0.8499 - val_loss: 4.3214 - val_acc: 0.8439\n",
      "Epoch 2/10\n",
      "35000/35000 [==============================] - 1143s 33ms/step - loss: 3.6160 - acc: 0.8716 - val_loss: 3.0379 - val_acc: 0.8812\n",
      "Epoch 3/10\n",
      "35000/35000 [==============================] - 1130s 32ms/step - loss: 2.4148 - acc: 0.8995 - val_loss: 2.0051 - val_acc: 0.8918\n",
      "Epoch 4/10\n",
      "35000/35000 [==============================] - 1133s 32ms/step - loss: 1.5085 - acc: 0.9157 - val_loss: 1.2199 - val_acc: 0.8922\n",
      "Epoch 5/10\n",
      "35000/35000 [==============================] - 1127s 32ms/step - loss: 0.8248 - acc: 0.9297 - val_loss: 0.6647 - val_acc: 0.8958\n",
      "Epoch 6/10\n",
      "35000/35000 [==============================] - 1141s 33ms/step - loss: 0.3249 - acc: 0.9407 - val_loss: 0.3061 - val_acc: 0.8940\n",
      "Epoch 7/10\n",
      "35000/35000 [==============================] - 1131s 32ms/step - loss: 0.1369 - acc: 0.9505 - val_loss: 0.3416 - val_acc: 0.8938\n",
      "Epoch 8/10\n",
      "35000/35000 [==============================] - 1140s 33ms/step - loss: 0.1138 - acc: 0.9603 - val_loss: 0.3677 - val_acc: 0.8939\n",
      "Epoch 9/10\n",
      "35000/35000 [==============================] - 1137s 32ms/step - loss: 0.0980 - acc: 0.9663 - val_loss: 0.3906 - val_acc: 0.8931\n",
      "Epoch 10/10\n",
      "35000/35000 [==============================] - 1129s 32ms/step - loss: 0.0868 - acc: 0.9722 - val_loss: 0.3980 - val_acc: 0.8955\n",
      "Accuracy: 89.55%\n"
     ]
    }
   ],
   "source": [
    "HISTORY_LATEST=model.fit(X_TRAIN, Y_TRAIN, nb_epoch=10, batch_size=164,verbose=1,validation_data=(X_TEST,Y_TEST))\n",
    "score = model.evaluate(X_TEST, Y_TEST, verbose=0)\n",
    "print(\"Accuracy: %.2f%%\" % (score[1]*100))"
   ]
  },
  {
   "cell_type": "code",
   "execution_count": 0,
   "metadata": {
    "colab": {
     "base_uri": "https://localhost:8080/",
     "height": 269
    },
    "colab_type": "code",
    "id": "__yVEjfsEdgO",
    "outputId": "90387a40-dc95-4245-fb53-8521f44e75a7"
   },
   "outputs": [
    {
     "data": {
      "image/png": "[encoded data removed]",
      "text/plain": [
       "<Figure size 432x288 with 1 Axes>"
      ]
     },
     "metadata": {
      "tags": []
     },
     "output_type": "display_data"
    }
   ],
   "source": [
    "\n",
    "import matplotlib.pyplot as plt\n",
    "#X = list(range(1,EPOCH +1))\n",
    "\n",
    "\n",
    "x_axis_values = list(range(1,EPOCH +1))\n",
    "\n",
    "validation_loss = HISTORY_LATEST.history['val_loss']\n",
    "train_loss = HISTORY_LATEST.history['loss']   \n",
    "    \n",
    "plt.plot(x_axis_values, validation_loss, 'b', label=\"Validation Loss\")\n",
    "plt.plot(x_axis_values, train_loss, 'r', label=\"Train Loss\")\n",
    "plt.legend()\n",
    "plt.grid()\n",
    "#fig.canvas.draw()\n"
   ]
  },
  {
   "cell_type": "markdown",
   "metadata": {
    "colab_type": "text",
    "id": "cn0-B2NNEeJv"
   },
   "source": [
    "# CONCLUSION:"
   ]
  },
  {
   "cell_type": "code",
   "execution_count": 0,
   "metadata": {
    "colab": {},
    "colab_type": "code",
    "id": "n3FaFXzYEudR"
   },
   "outputs": [],
   "source": []
  },
  {
   "cell_type": "code",
   "execution_count": 26,
   "metadata": {
    "colab": {
     "base_uri": "https://localhost:8080/",
     "height": 242
    },
    "colab_type": "code",
    "id": "iGl0sJ_X1DsK",
    "outputId": "f76eba56-d33b-4a95-d7f0-a39541ab79ef"
   },
   "outputs": [
    {
     "name": "stdout",
     "output_type": "stream",
     "text": [
      "                                        CONCLUSION\n",
      "====================================================================================================\n",
      "+--------------------------------------------+-------------------------+----------+\n",
      "|                   Model                    | Embedding Vector length | Accuracy |\n",
      "+--------------------------------------------+-------------------------+----------+\n",
      "|        One layer of LSTM(100 units)        |            32           |   88%    |\n",
      "|    Two LSTM LAyer of 100 and 50 units      |            32           |   87%    |\n",
      "|     Two LSTM layer of 80 and 50 units      |            64           |   88%    |\n",
      "|       Two LSTM layer + BN + Dropout        |            32           |   89%    |\n",
      "|       Two LSTM layer + BN + Dropout        |            20           |   87%    |\n",
      "| 3 LSTM layer + BN + Dropout+ only 5 EPOCH  |            32           |   89%    |\n",
      "|      SAME ABOVE  MODEL with 10 EPOCH       |            32           |  89.55%  |\n",
      "+--------------------------------------------+-------------------------+----------+\n"
     ]
    }
   ],
   "source": [
    "from prettytable import PrettyTable\n",
    "X=PrettyTable()\n",
    "print(\" \"*40+\"CONCLUSION\")\n",
    "print(\"=\"*100)\n",
    "X.field_names = [\"Model\",\"Embedding Vector length\",'Accuracy']\n",
    "X.add_row([\"One layer of LSTM(100 units)\",\"32\",'88%'])\n",
    "X.add_row([\"Two LSTM LAyer of 100 and 50 units \",\"32\",'87%'])  \n",
    "X.add_row([\"Two LSTM layer of 80 and 50 units \",\"64\",'88%'])  \n",
    "X.add_row([\"Two LSTM layer + BN + Dropout \",\"32\",'89%'])  \n",
    "X.add_row([\"Two LSTM layer + BN + Dropout \",\"20\",'87%'])  \n",
    "X.add_row([\"3 LSTM layer + BN + Dropout+ only 5 EPOCH \",\"32\",'89%'])  \n",
    "X.add_row([\" SAME ABOVE  MODEL with 10 EPOCH \",\"32\",'89.55%'])    \n",
    " \n",
    "print(X)"
   ]
  },
  {
   "cell_type": "markdown",
   "metadata": {
    "colab_type": "text",
    "id": "6Z3rMH_KtdQ_"
   },
   "source": [
    "**Approach: **:\n",
    "\n",
    "\n",
    "* First I split my data into train and test then performed following steps: \n",
    "\n",
    "1.Get vocab\n",
    "\n",
    "2.Get frequency of each word \n",
    "\n",
    "3.Index each word.\n",
    "\n",
    "4.Convert it into same format as we did in IMBD case.\n",
    "\n",
    "  \n",
    "\n",
    "\n",
    " "
   ]
  },
  {
   "cell_type": "markdown",
   "metadata": {
    "colab_type": "text",
    "id": "WFYfNdI3HElp"
   },
   "source": [
    "**Observation:**\n",
    "\n",
    "1. I have tried several model with different LSTM layers also played with epoch and embedding vector lentgh. But most of the time Train loss was decreasing but Test loss was not decreasing.\n",
    "\n",
    "2. Then  I have used  Regularizers that allow to apply penalties on layer parameters.\n",
    "\n",
    "3. After doing that (in model 4 and last two model,one with 5 epoch and similar model with 10 epoch) Both losses decreases significantly and give best accuracy of 89.55%(close to 90%)."
   ]
  },
  {
   "cell_type": "code",
   "execution_count": 0,
   "metadata": {
    "colab": {},
    "colab_type": "code",
    "id": "5fCvdroJG-rV"
   },
   "outputs": [],
   "source": []
  },
  {
   "cell_type": "code",
   "execution_count": 0,
   "metadata": {
    "colab": {},
    "colab_type": "code",
    "id": "jU7BBIQYKtZg"
   },
   "outputs": [],
   "source": []
  }
 ],
 "metadata": {
  "accelerator": "GPU",
  "colab": {
   "collapsed_sections": [],
   "name": "LSTM_FINE_FOOD_UPDATED_3.ipynb",
   "provenance": []
  },
  "kernelspec": {
   "display_name": "Python 3",
   "language": "python",
   "name": "python3"
  },
  "language_info": {
   "codemirror_mode": {
    "name": "ipython",
    "version": 3
   },
   "file_extension": ".py",
   "mimetype": "text/x-python",
   "name": "python",
   "nbconvert_exporter": "python",
   "pygments_lexer": "ipython3",
   "version": "3.6.5"
  }
 },
 "nbformat": 4,
 "nbformat_minor": 1
}
